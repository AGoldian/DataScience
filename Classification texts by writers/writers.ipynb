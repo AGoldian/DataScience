{
 "cells": [
  {
   "cell_type": "markdown",
   "id": "433a5fb0",
   "metadata": {
    "papermill": {
     "duration": 0.011355,
     "end_time": "2022-06-06T19:37:16.889257",
     "exception": false,
     "start_time": "2022-06-06T19:37:16.877902",
     "status": "completed"
    },
    "tags": []
   },
   "source": [
    "# **Classifying writers by their text.**\n",
    "### *Solving the problem of classifying a literary text by author. Working with the Natural Language Processing Library (NLTK), and applying vectorized data pipelines.*\n",
    "![](https://www.gov.spb.ru/static/writable/cache/b4/3b/b43b747007089117d13a5518d40255eb.jpg)"
   ]
  },
  {
   "cell_type": "markdown",
   "id": "dc3eaedf",
   "metadata": {
    "papermill": {
     "duration": 0.006371,
     "end_time": "2022-06-06T19:37:16.902609",
     "exception": false,
     "start_time": "2022-06-06T19:37:16.896238",
     "status": "completed"
    },
    "tags": []
   },
   "source": [
    "## 1. Download dataframe and processing data"
   ]
  },
  {
   "cell_type": "code",
   "execution_count": 1,
   "id": "82559ebb",
   "metadata": {
    "execution": {
     "iopub.execute_input": "2022-06-06T19:37:16.918943Z",
     "iopub.status.busy": "2022-06-06T19:37:16.917652Z",
     "iopub.status.idle": "2022-06-06T19:37:16.928955Z",
     "shell.execute_reply": "2022-06-06T19:37:16.928014Z"
    },
    "papermill": {
     "duration": 0.021883,
     "end_time": "2022-06-06T19:37:16.931211",
     "exception": false,
     "start_time": "2022-06-06T19:37:16.909328",
     "status": "completed"
    },
    "tags": []
   },
   "outputs": [],
   "source": [
    "import pandas as pd\n",
    "import numpy as np"
   ]
  },
  {
   "cell_type": "code",
   "execution_count": 2,
   "id": "1fe7f887",
   "metadata": {
    "execution": {
     "iopub.execute_input": "2022-06-06T19:37:16.947360Z",
     "iopub.status.busy": "2022-06-06T19:37:16.946861Z",
     "iopub.status.idle": "2022-06-06T19:37:17.192990Z",
     "shell.execute_reply": "2022-06-06T19:37:17.191795Z"
    },
    "papermill": {
     "duration": 0.257416,
     "end_time": "2022-06-06T19:37:17.195736",
     "exception": false,
     "start_time": "2022-06-06T19:37:16.938320",
     "status": "completed"
    },
    "tags": []
   },
   "outputs": [],
   "source": [
    "df = pd.read_csv('train_data.csv')\n",
    "test_df = pd.read_csv(\"test_no_answers.csv\")"
   ]
  },
  {
   "cell_type": "markdown",
   "id": "fd8f61ec",
   "metadata": {
    "papermill": {
     "duration": 0.006921,
     "end_time": "2022-06-06T19:37:17.209988",
     "exception": false,
     "start_time": "2022-06-06T19:37:17.203067",
     "status": "completed"
    },
    "tags": []
   },
   "source": [
    "#### The language of the dataset is Russian, so don't be frightened)"
   ]
  },
  {
   "cell_type": "code",
   "execution_count": 3,
   "id": "5077f7fa",
   "metadata": {
    "execution": {
     "iopub.execute_input": "2022-06-06T19:37:17.226858Z",
     "iopub.status.busy": "2022-06-06T19:37:17.225935Z",
     "iopub.status.idle": "2022-06-06T19:37:17.250067Z",
     "shell.execute_reply": "2022-06-06T19:37:17.249158Z"
    },
    "papermill": {
     "duration": 0.036075,
     "end_time": "2022-06-06T19:37:17.253332",
     "exception": false,
     "start_time": "2022-06-06T19:37:17.217257",
     "status": "completed"
    },
    "tags": []
   },
   "outputs": [
    {
     "data": {
      "text/html": [
       "<div>\n",
       "<style scoped>\n",
       "    .dataframe tbody tr th:only-of-type {\n",
       "        vertical-align: middle;\n",
       "    }\n",
       "\n",
       "    .dataframe tbody tr th {\n",
       "        vertical-align: top;\n",
       "    }\n",
       "\n",
       "    .dataframe thead th {\n",
       "        text-align: right;\n",
       "    }\n",
       "</style>\n",
       "<table border=\"1\" class=\"dataframe\">\n",
       "  <thead>\n",
       "    <tr style=\"text-align: right;\">\n",
       "      <th></th>\n",
       "      <th>id</th>\n",
       "      <th>text</th>\n",
       "      <th>author</th>\n",
       "    </tr>\n",
       "  </thead>\n",
       "  <tbody>\n",
       "    <tr>\n",
       "      <th>0</th>\n",
       "      <td>0</td>\n",
       "      <td>-Бабушка!- вскричала малютка.- Возьми меня с с...</td>\n",
       "      <td>Dostoevsky</td>\n",
       "    </tr>\n",
       "    <tr>\n",
       "      <th>1</th>\n",
       "      <td>1</td>\n",
       "      <td>Знал ли Скрудж об этом? Разумеется, знал. Да и...</td>\n",
       "      <td>Dostoevsky</td>\n",
       "    </tr>\n",
       "    <tr>\n",
       "      <th>2</th>\n",
       "      <td>2</td>\n",
       "      <td>-С праздником, дядя, с радостью! Дай вам Бог в...</td>\n",
       "      <td>Dostoevsky</td>\n",
       "    </tr>\n",
       "    <tr>\n",
       "      <th>3</th>\n",
       "      <td>3</td>\n",
       "      <td>Мы высказали только главную передовую мысль на...</td>\n",
       "      <td>Dostoevsky</td>\n",
       "    </tr>\n",
       "    <tr>\n",
       "      <th>4</th>\n",
       "      <td>4</td>\n",
       "      <td>I. Отдел литературный. Повести, романы, расска...</td>\n",
       "      <td>Dostoevsky</td>\n",
       "    </tr>\n",
       "  </tbody>\n",
       "</table>\n",
       "</div>"
      ],
      "text/plain": [
       "   id                                               text      author\n",
       "0   0  -Бабушка!- вскричала малютка.- Возьми меня с с...  Dostoevsky\n",
       "1   1  Знал ли Скрудж об этом? Разумеется, знал. Да и...  Dostoevsky\n",
       "2   2  -С праздником, дядя, с радостью! Дай вам Бог в...  Dostoevsky\n",
       "3   3  Мы высказали только главную передовую мысль на...  Dostoevsky\n",
       "4   4  I. Отдел литературный. Повести, романы, расска...  Dostoevsky"
      ]
     },
     "execution_count": 3,
     "metadata": {},
     "output_type": "execute_result"
    }
   ],
   "source": [
    "df.head()"
   ]
  },
  {
   "cell_type": "markdown",
   "id": "9136df13",
   "metadata": {
    "papermill": {
     "duration": 0.007191,
     "end_time": "2022-06-06T19:37:17.267933",
     "exception": false,
     "start_time": "2022-06-06T19:37:17.260742",
     "status": "completed"
    },
    "tags": []
   },
   "source": [
    "#### Clean up the data by first removing punctuation marks and then stopwords (But it's important to try all methods here, as this has the most impact on your accuracy)."
   ]
  },
  {
   "cell_type": "code",
   "execution_count": 4,
   "id": "2cf05a0b",
   "metadata": {
    "execution": {
     "iopub.execute_input": "2022-06-06T19:37:17.285380Z",
     "iopub.status.busy": "2022-06-06T19:37:17.284724Z",
     "iopub.status.idle": "2022-06-06T19:37:19.402206Z",
     "shell.execute_reply": "2022-06-06T19:37:19.401221Z"
    },
    "papermill": {
     "duration": 2.129257,
     "end_time": "2022-06-06T19:37:19.404819",
     "exception": false,
     "start_time": "2022-06-06T19:37:17.275562",
     "status": "completed"
    },
    "tags": []
   },
   "outputs": [
    {
     "name": "stdout",
     "output_type": "stream",
     "text": [
      "[nltk_data] Downloading package stopwords to /usr/share/nltk_data...\n",
      "[nltk_data]   Package stopwords is already up-to-date!\n"
     ]
    }
   ],
   "source": [
    "import nltk\n",
    "nltk.download(\"stopwords\")\n",
    "from nltk.corpus import stopwords\n",
    "from string import punctuation\n",
    "russian_stopwords = stopwords.words(\"russian\")\n",
    "\n",
    "def remove_punct(text):\n",
    "    table = {33: ' ', 34: ' ', 35: ' ', 36: ' ', 37: ' ', 38: ' ', 39: ' ', 40: ' ', 41: ' ', 42: ' ', 43: ' ', 44: ' ', 45: ' ', \n",
    "             46: ' ', 47: ' ', 58: ' ', 59: ' ', 60: ' ', 61: ' ', 62: ' ', 63: ' ', 64: ' ', 91: ' ', 92: ' ', 93: ' ', 94: ' ', \n",
    "             95: ' ', 96: ' ', 123: ' ', 124: ' ', 125: ' ', 126: ' '}\n",
    "    return text.translate(table)\n",
    "\n",
    "def cleaning(dataframe):\n",
    "    dataframe['Post_clean'] = dataframe['text'].map(lambda x: x.lower())\n",
    "    dataframe['Post_clean'] = dataframe['Post_clean'].map(lambda x: remove_punct(x))\n",
    "    dataframe['Post_clean'] = dataframe['Post_clean'].map(lambda x: x.split(' '))\n",
    "    dataframe['Post_clean'] = dataframe['Post_clean'].map(lambda x: [token for token in x if token not in russian_stopwords\\\n",
    "                                                                  and token != \" \" \\\n",
    "                                                                  and token.strip() not in punctuation])\n",
    "    dataframe['Post_clean'] = dataframe['Post_clean'].map(lambda x: ' '.join(x))"
   ]
  },
  {
   "cell_type": "markdown",
   "id": "494e44b8",
   "metadata": {
    "papermill": {
     "duration": 0.00713,
     "end_time": "2022-06-06T19:37:19.419841",
     "exception": false,
     "start_time": "2022-06-06T19:37:19.412711",
     "status": "completed"
    },
    "tags": []
   },
   "source": [
    "#### Let's see what we got after cleaning"
   ]
  },
  {
   "cell_type": "code",
   "execution_count": 5,
   "id": "8a5bf9d9",
   "metadata": {
    "execution": {
     "iopub.execute_input": "2022-06-06T19:37:19.436688Z",
     "iopub.status.busy": "2022-06-06T19:37:19.436206Z",
     "iopub.status.idle": "2022-06-06T19:37:20.940517Z",
     "shell.execute_reply": "2022-06-06T19:37:20.939493Z"
    },
    "papermill": {
     "duration": 1.515492,
     "end_time": "2022-06-06T19:37:20.942732",
     "exception": false,
     "start_time": "2022-06-06T19:37:19.427240",
     "status": "completed"
    },
    "tags": []
   },
   "outputs": [
    {
     "data": {
      "text/html": [
       "<div>\n",
       "<style scoped>\n",
       "    .dataframe tbody tr th:only-of-type {\n",
       "        vertical-align: middle;\n",
       "    }\n",
       "\n",
       "    .dataframe tbody tr th {\n",
       "        vertical-align: top;\n",
       "    }\n",
       "\n",
       "    .dataframe thead th {\n",
       "        text-align: right;\n",
       "    }\n",
       "</style>\n",
       "<table border=\"1\" class=\"dataframe\">\n",
       "  <thead>\n",
       "    <tr style=\"text-align: right;\">\n",
       "      <th></th>\n",
       "      <th>id</th>\n",
       "      <th>text</th>\n",
       "      <th>author</th>\n",
       "      <th>Post_clean</th>\n",
       "    </tr>\n",
       "  </thead>\n",
       "  <tbody>\n",
       "    <tr>\n",
       "      <th>0</th>\n",
       "      <td>0</td>\n",
       "      <td>-Бабушка!- вскричала малютка.- Возьми меня с с...</td>\n",
       "      <td>Dostoevsky</td>\n",
       "      <td>бабушка вскричала малютка возьми собой знаю уй...</td>\n",
       "    </tr>\n",
       "    <tr>\n",
       "      <th>1</th>\n",
       "      <td>1</td>\n",
       "      <td>Знал ли Скрудж об этом? Разумеется, знал. Да и...</td>\n",
       "      <td>Dostoevsky</td>\n",
       "      <td>знал скрудж разумеется знал могло иначе скрудж...</td>\n",
       "    </tr>\n",
       "    <tr>\n",
       "      <th>2</th>\n",
       "      <td>2</td>\n",
       "      <td>-С праздником, дядя, с радостью! Дай вам Бог в...</td>\n",
       "      <td>Dostoevsky</td>\n",
       "      <td>праздником дядя радостью дай бог благ земных р...</td>\n",
       "    </tr>\n",
       "    <tr>\n",
       "      <th>3</th>\n",
       "      <td>3</td>\n",
       "      <td>Мы высказали только главную передовую мысль на...</td>\n",
       "      <td>Dostoevsky</td>\n",
       "      <td>высказали главную передовую мысль нашего журна...</td>\n",
       "    </tr>\n",
       "    <tr>\n",
       "      <th>4</th>\n",
       "      <td>4</td>\n",
       "      <td>I. Отдел литературный. Повести, романы, расска...</td>\n",
       "      <td>Dostoevsky</td>\n",
       "      <td>i отдел литературный повести романы рассказы м...</td>\n",
       "    </tr>\n",
       "  </tbody>\n",
       "</table>\n",
       "</div>"
      ],
      "text/plain": [
       "   id                                               text      author  \\\n",
       "0   0  -Бабушка!- вскричала малютка.- Возьми меня с с...  Dostoevsky   \n",
       "1   1  Знал ли Скрудж об этом? Разумеется, знал. Да и...  Dostoevsky   \n",
       "2   2  -С праздником, дядя, с радостью! Дай вам Бог в...  Dostoevsky   \n",
       "3   3  Мы высказали только главную передовую мысль на...  Dostoevsky   \n",
       "4   4  I. Отдел литературный. Повести, романы, расска...  Dostoevsky   \n",
       "\n",
       "                                          Post_clean  \n",
       "0  бабушка вскричала малютка возьми собой знаю уй...  \n",
       "1  знал скрудж разумеется знал могло иначе скрудж...  \n",
       "2  праздником дядя радостью дай бог благ земных р...  \n",
       "3  высказали главную передовую мысль нашего журна...  \n",
       "4  i отдел литературный повести романы рассказы м...  "
      ]
     },
     "execution_count": 5,
     "metadata": {},
     "output_type": "execute_result"
    }
   ],
   "source": [
    "cleaning(df)\n",
    "cleaning(test_df)\n",
    "df.head()"
   ]
  },
  {
   "cell_type": "markdown",
   "id": "5858ba12",
   "metadata": {
    "papermill": {
     "duration": 0.006998,
     "end_time": "2022-06-06T19:37:20.957136",
     "exception": false,
     "start_time": "2022-06-06T19:37:20.950138",
     "status": "completed"
    },
    "tags": []
   },
   "source": [
    "## 2. Learning models and building a data pipeline"
   ]
  },
  {
   "cell_type": "code",
   "execution_count": 6,
   "id": "6dc9e68e",
   "metadata": {
    "execution": {
     "iopub.execute_input": "2022-06-06T19:37:20.974572Z",
     "iopub.status.busy": "2022-06-06T19:37:20.973314Z",
     "iopub.status.idle": "2022-06-06T19:37:20.983096Z",
     "shell.execute_reply": "2022-06-06T19:37:20.982172Z"
    },
    "papermill": {
     "duration": 0.021153,
     "end_time": "2022-06-06T19:37:20.985504",
     "exception": false,
     "start_time": "2022-06-06T19:37:20.964351",
     "status": "completed"
    },
    "tags": []
   },
   "outputs": [],
   "source": [
    "from sklearn.model_selection import train_test_split\n",
    "X_train, X_valid, y_train, y_valid = train_test_split(df['Post_clean'], df['author'], test_size=0.1, random_state=42)\n",
    "X_train, X_test, y_train, y_test = train_test_split(X_train, y_train, test_size=0.2, random_state=42)"
   ]
  },
  {
   "cell_type": "code",
   "execution_count": 7,
   "id": "473b39aa",
   "metadata": {
    "execution": {
     "iopub.execute_input": "2022-06-06T19:37:21.003478Z",
     "iopub.status.busy": "2022-06-06T19:37:21.002621Z",
     "iopub.status.idle": "2022-06-06T19:37:21.072474Z",
     "shell.execute_reply": "2022-06-06T19:37:21.071462Z"
    },
    "papermill": {
     "duration": 0.08252,
     "end_time": "2022-06-06T19:37:21.075718",
     "exception": false,
     "start_time": "2022-06-06T19:37:20.993198",
     "status": "completed"
    },
    "tags": []
   },
   "outputs": [],
   "source": [
    "from sklearn.pipeline import Pipeline\n",
    "# pipeline allows to combine transformer and model into one block, which simplifies code writing and improves its readability\n",
    "from sklearn.feature_extraction.text import TfidfVectorizer\n",
    "# TfidfVectorizer converts texts into numeric vectors that reflect the importance of using each word from a set of words \n",
    "# (the number of words in the set determines the dimensionality of the vector) in each text\n",
    "from sklearn.linear_model import SGDClassifier\n",
    "from sklearn.neighbors import KNeighborsClassifier\n",
    "from sklearn import metrics\n",
    "from sklearn.model_selection import GridSearchCV"
   ]
  },
  {
   "cell_type": "markdown",
   "id": "a9b9897d",
   "metadata": {
    "papermill": {
     "duration": 0.007385,
     "end_time": "2022-06-06T19:37:21.091069",
     "exception": false,
     "start_time": "2022-06-06T19:37:21.083684",
     "status": "completed"
    },
    "tags": []
   },
   "source": [
    "#### We build the conveyor, first we vectorize the data, then we apply our model, try several different models to make a little analysis at the end"
   ]
  },
  {
   "cell_type": "code",
   "execution_count": 8,
   "id": "fb4cf9f8",
   "metadata": {
    "execution": {
     "iopub.execute_input": "2022-06-06T19:37:21.108613Z",
     "iopub.status.busy": "2022-06-06T19:37:21.108152Z",
     "iopub.status.idle": "2022-06-06T19:37:22.452642Z",
     "shell.execute_reply": "2022-06-06T19:37:22.451550Z"
    },
    "papermill": {
     "duration": 1.35582,
     "end_time": "2022-06-06T19:37:22.454964",
     "exception": false,
     "start_time": "2022-06-06T19:37:21.099144",
     "status": "completed"
    },
    "tags": []
   },
   "outputs": [
    {
     "data": {
      "text/plain": [
       "Pipeline(steps=[('tfidf', TfidfVectorizer()),\n",
       "                ('knb_clf', KNeighborsClassifier(n_neighbors=10))])"
      ]
     },
     "execution_count": 8,
     "metadata": {},
     "output_type": "execute_result"
    }
   ],
   "source": [
    "sgd_ppl_clf = Pipeline([\n",
    "    ('tfidf', TfidfVectorizer()),\n",
    "    ('sgd_clf', SGDClassifier(random_state=42))])\n",
    "knb_ppl_clf = Pipeline([\n",
    "    ('tfidf', TfidfVectorizer()),\n",
    "    ('knb_clf', KNeighborsClassifier(n_neighbors=10))])\n",
    "sgd_ppl_clf.fit(X_train, y_train)\n",
    "knb_ppl_clf.fit(X_train, y_train)"
   ]
  },
  {
   "cell_type": "markdown",
   "id": "0d967eb6",
   "metadata": {
    "papermill": {
     "duration": 0.007311,
     "end_time": "2022-06-06T19:37:22.469645",
     "exception": false,
     "start_time": "2022-06-06T19:37:22.462334",
     "status": "completed"
    },
    "tags": []
   },
   "source": [
    "#### We make a metric for both the overall result, and for each author"
   ]
  },
  {
   "cell_type": "code",
   "execution_count": 9,
   "id": "ef9ed9ed",
   "metadata": {
    "execution": {
     "iopub.execute_input": "2022-06-06T19:37:22.487080Z",
     "iopub.status.busy": "2022-06-06T19:37:22.486387Z",
     "iopub.status.idle": "2022-06-06T19:37:22.585918Z",
     "shell.execute_reply": "2022-06-06T19:37:22.584698Z"
    },
    "papermill": {
     "duration": 0.112257,
     "end_time": "2022-06-06T19:37:22.589474",
     "exception": false,
     "start_time": "2022-06-06T19:37:22.477217",
     "status": "completed"
    },
    "tags": []
   },
   "outputs": [
    {
     "name": "stdout",
     "output_type": "stream",
     "text": [
      "              precision    recall  f1-score   support\n",
      "\n",
      "      Akunin       0.98      0.86      0.91        92\n",
      "    Bulychev       0.98      0.96      0.97        55\n",
      "      Chehov       0.79      0.86      0.83        36\n",
      "  Dostoevsky       0.27      0.30      0.29        10\n",
      "       Gogol       0.40      0.60      0.48        10\n",
      "        King       0.96      0.95      0.95        55\n",
      "   Pratchett       0.94      0.98      0.96        48\n",
      "      Remark       0.75      1.00      0.86         6\n",
      "\n",
      "    accuracy                           0.89       312\n",
      "   macro avg       0.76      0.81      0.78       312\n",
      "weighted avg       0.90      0.89      0.89       312\n",
      "\n"
     ]
    }
   ],
   "source": [
    "predicted_sgd = sgd_ppl_clf.predict(X_test)\n",
    "print(metrics.classification_report(predicted_sgd, y_test))"
   ]
  },
  {
   "cell_type": "code",
   "execution_count": 10,
   "id": "4fae11a1",
   "metadata": {
    "execution": {
     "iopub.execute_input": "2022-06-06T19:37:22.606611Z",
     "iopub.status.busy": "2022-06-06T19:37:22.605852Z",
     "iopub.status.idle": "2022-06-06T19:37:22.752600Z",
     "shell.execute_reply": "2022-06-06T19:37:22.751427Z"
    },
    "papermill": {
     "duration": 0.158156,
     "end_time": "2022-06-06T19:37:22.755199",
     "exception": false,
     "start_time": "2022-06-06T19:37:22.597043",
     "status": "completed"
    },
    "tags": []
   },
   "outputs": [
    {
     "name": "stdout",
     "output_type": "stream",
     "text": [
      "              precision    recall  f1-score   support\n",
      "\n",
      "      Akunin       0.91      0.84      0.88        88\n",
      "    Bulychev       0.89      0.94      0.91        51\n",
      "      Chehov       0.67      0.81      0.73        32\n",
      "  Dostoevsky       0.45      0.42      0.43        12\n",
      "       Gogol       0.60      0.69      0.64        13\n",
      "        King       0.83      0.82      0.83        55\n",
      "   Pratchett       0.92      0.87      0.89        53\n",
      "      Remark       0.88      0.88      0.88         8\n",
      "\n",
      "    accuracy                           0.83       312\n",
      "   macro avg       0.77      0.78      0.77       312\n",
      "weighted avg       0.84      0.83      0.83       312\n",
      "\n"
     ]
    }
   ],
   "source": [
    "predicted_sgd = knb_ppl_clf.predict(X_test)\n",
    "print(metrics.classification_report(predicted_sgd, y_test))"
   ]
  },
  {
   "cell_type": "code",
   "execution_count": 11,
   "id": "ea85cddf",
   "metadata": {
    "execution": {
     "iopub.execute_input": "2022-06-06T19:37:22.773959Z",
     "iopub.status.busy": "2022-06-06T19:37:22.772982Z",
     "iopub.status.idle": "2022-06-06T19:37:26.100446Z",
     "shell.execute_reply": "2022-06-06T19:37:26.099494Z"
    },
    "papermill": {
     "duration": 3.340004,
     "end_time": "2022-06-06T19:37:26.103474",
     "exception": false,
     "start_time": "2022-06-06T19:37:22.763470",
     "status": "completed"
    },
    "tags": []
   },
   "outputs": [
    {
     "name": "stdout",
     "output_type": "stream",
     "text": [
      "              precision    recall  f1-score   support\n",
      "\n",
      "      Akunin       0.98      0.92      0.95        86\n",
      "    Bulychev       0.93      0.98      0.95        51\n",
      "      Chehov       0.79      0.89      0.84        35\n",
      "  Dostoevsky       0.27      0.30      0.29        10\n",
      "       Gogol       0.53      0.57      0.55        14\n",
      "        King       0.98      0.85      0.91        62\n",
      "   Pratchett       0.90      0.96      0.93        47\n",
      "      Remark       0.88      1.00      0.93         7\n",
      "\n",
      "    accuracy                           0.88       312\n",
      "   macro avg       0.78      0.81      0.79       312\n",
      "weighted avg       0.89      0.88      0.89       312\n",
      "\n"
     ]
    }
   ],
   "source": [
    "sgd_ppl_clf = Pipeline([\n",
    "    ('tfidf', TfidfVectorizer(ngram_range=(1, 2))),\n",
    "    ('sgd_clf', SGDClassifier(penalty='elasticnet', class_weight='balanced', random_state=42))])\n",
    "sgd_ppl_clf.fit(X_train, y_train)\n",
    "predicted_sgd = sgd_ppl_clf.predict(X_test)\n",
    "print(metrics.classification_report(predicted_sgd, y_test))"
   ]
  },
  {
   "cell_type": "code",
   "execution_count": 12,
   "id": "7b3654bb",
   "metadata": {
    "execution": {
     "iopub.execute_input": "2022-06-06T19:37:26.121123Z",
     "iopub.status.busy": "2022-06-06T19:37:26.120674Z",
     "iopub.status.idle": "2022-06-06T19:37:26.225924Z",
     "shell.execute_reply": "2022-06-06T19:37:26.224942Z"
    },
    "papermill": {
     "duration": 0.116736,
     "end_time": "2022-06-06T19:37:26.228239",
     "exception": false,
     "start_time": "2022-06-06T19:37:26.111503",
     "status": "completed"
    },
    "tags": []
   },
   "outputs": [
    {
     "name": "stdout",
     "output_type": "stream",
     "text": [
      "              precision    recall  f1-score   support\n",
      "\n",
      "      Akunin       0.98      0.85      0.91        61\n",
      "    Bulychev       0.89      1.00      0.94        25\n",
      "      Chehov       0.62      0.77      0.69        13\n",
      "  Dostoevsky       0.56      0.56      0.56         9\n",
      "       Gogol       0.46      0.67      0.55         9\n",
      "        King       1.00      0.88      0.94        34\n",
      "   Pratchett       0.91      1.00      0.95        20\n",
      "      Remark       1.00      1.00      1.00         3\n",
      "\n",
      "    accuracy                           0.87       174\n",
      "   macro avg       0.80      0.84      0.82       174\n",
      "weighted avg       0.89      0.87      0.87       174\n",
      "\n"
     ]
    }
   ],
   "source": [
    "predicted_sgd_val = sgd_ppl_clf.predict(X_valid)\n",
    "print(metrics.classification_report(predicted_sgd_val, y_valid))"
   ]
  },
  {
   "cell_type": "markdown",
   "id": "707770f0",
   "metadata": {
    "papermill": {
     "duration": 0.007551,
     "end_time": "2022-06-06T19:37:26.244028",
     "exception": false,
     "start_time": "2022-06-06T19:37:26.236477",
     "status": "completed"
    },
    "tags": []
   },
   "source": [
    "## 3. (Optional) Create a prediction for our test data"
   ]
  },
  {
   "cell_type": "code",
   "execution_count": 13,
   "id": "21a0d616",
   "metadata": {
    "execution": {
     "iopub.execute_input": "2022-06-06T19:37:26.261629Z",
     "iopub.status.busy": "2022-06-06T19:37:26.261105Z",
     "iopub.status.idle": "2022-06-06T19:37:26.454524Z",
     "shell.execute_reply": "2022-06-06T19:37:26.453086Z"
    },
    "papermill": {
     "duration": 0.205422,
     "end_time": "2022-06-06T19:37:26.457353",
     "exception": false,
     "start_time": "2022-06-06T19:37:26.251931",
     "status": "completed"
    },
    "tags": []
   },
   "outputs": [],
   "source": [
    "final = sgd_ppl_clf.predict(test_df.text)"
   ]
  },
  {
   "cell_type": "code",
   "execution_count": 14,
   "id": "c24627ef",
   "metadata": {
    "execution": {
     "iopub.execute_input": "2022-06-06T19:37:26.476260Z",
     "iopub.status.busy": "2022-06-06T19:37:26.475748Z",
     "iopub.status.idle": "2022-06-06T19:37:26.483093Z",
     "shell.execute_reply": "2022-06-06T19:37:26.482009Z"
    },
    "papermill": {
     "duration": 0.019729,
     "end_time": "2022-06-06T19:37:26.485331",
     "exception": false,
     "start_time": "2022-06-06T19:37:26.465602",
     "status": "completed"
    },
    "tags": []
   },
   "outputs": [],
   "source": [
    "answer = pd.DataFrame(data=final, columns=['author'])\n",
    "answer.insert(0, 'id', test_df['id'])"
   ]
  },
  {
   "cell_type": "code",
   "execution_count": 15,
   "id": "0bb18881",
   "metadata": {
    "execution": {
     "iopub.execute_input": "2022-06-06T19:37:26.505202Z",
     "iopub.status.busy": "2022-06-06T19:37:26.504652Z",
     "iopub.status.idle": "2022-06-06T19:37:26.516730Z",
     "shell.execute_reply": "2022-06-06T19:37:26.515879Z"
    },
    "papermill": {
     "duration": 0.024805,
     "end_time": "2022-06-06T19:37:26.519241",
     "exception": false,
     "start_time": "2022-06-06T19:37:26.494436",
     "status": "completed"
    },
    "tags": []
   },
   "outputs": [],
   "source": [
    "answer.to_csv('submission.csv', index=None)"
   ]
  },
  {
   "cell_type": "code",
   "execution_count": 16,
   "id": "90ce0f76",
   "metadata": {
    "execution": {
     "iopub.execute_input": "2022-06-06T19:37:26.537801Z",
     "iopub.status.busy": "2022-06-06T19:37:26.537310Z",
     "iopub.status.idle": "2022-06-06T19:37:26.551549Z",
     "shell.execute_reply": "2022-06-06T19:37:26.550445Z"
    },
    "papermill": {
     "duration": 0.026229,
     "end_time": "2022-06-06T19:37:26.553976",
     "exception": false,
     "start_time": "2022-06-06T19:37:26.527747",
     "status": "completed"
    },
    "tags": []
   },
   "outputs": [
    {
     "data": {
      "text/html": [
       "<div>\n",
       "<style scoped>\n",
       "    .dataframe tbody tr th:only-of-type {\n",
       "        vertical-align: middle;\n",
       "    }\n",
       "\n",
       "    .dataframe tbody tr th {\n",
       "        vertical-align: top;\n",
       "    }\n",
       "\n",
       "    .dataframe thead th {\n",
       "        text-align: right;\n",
       "    }\n",
       "</style>\n",
       "<table border=\"1\" class=\"dataframe\">\n",
       "  <thead>\n",
       "    <tr style=\"text-align: right;\">\n",
       "      <th></th>\n",
       "      <th>id</th>\n",
       "      <th>author</th>\n",
       "    </tr>\n",
       "  </thead>\n",
       "  <tbody>\n",
       "    <tr>\n",
       "      <th>0</th>\n",
       "      <td>1734</td>\n",
       "      <td>Dostoevsky</td>\n",
       "    </tr>\n",
       "    <tr>\n",
       "      <th>1</th>\n",
       "      <td>1735</td>\n",
       "      <td>Pratchett</td>\n",
       "    </tr>\n",
       "    <tr>\n",
       "      <th>2</th>\n",
       "      <td>1736</td>\n",
       "      <td>Akunin</td>\n",
       "    </tr>\n",
       "    <tr>\n",
       "      <th>3</th>\n",
       "      <td>1737</td>\n",
       "      <td>Chehov</td>\n",
       "    </tr>\n",
       "    <tr>\n",
       "      <th>4</th>\n",
       "      <td>1738</td>\n",
       "      <td>King</td>\n",
       "    </tr>\n",
       "    <tr>\n",
       "      <th>...</th>\n",
       "      <td>...</td>\n",
       "      <td>...</td>\n",
       "    </tr>\n",
       "    <tr>\n",
       "      <th>325</th>\n",
       "      <td>2059</td>\n",
       "      <td>King</td>\n",
       "    </tr>\n",
       "    <tr>\n",
       "      <th>326</th>\n",
       "      <td>2060</td>\n",
       "      <td>Chehov</td>\n",
       "    </tr>\n",
       "    <tr>\n",
       "      <th>327</th>\n",
       "      <td>2061</td>\n",
       "      <td>Pratchett</td>\n",
       "    </tr>\n",
       "    <tr>\n",
       "      <th>328</th>\n",
       "      <td>2062</td>\n",
       "      <td>Pratchett</td>\n",
       "    </tr>\n",
       "    <tr>\n",
       "      <th>329</th>\n",
       "      <td>2063</td>\n",
       "      <td>Bulychev</td>\n",
       "    </tr>\n",
       "  </tbody>\n",
       "</table>\n",
       "<p>330 rows × 2 columns</p>\n",
       "</div>"
      ],
      "text/plain": [
       "       id      author\n",
       "0    1734  Dostoevsky\n",
       "1    1735   Pratchett\n",
       "2    1736      Akunin\n",
       "3    1737      Chehov\n",
       "4    1738        King\n",
       "..    ...         ...\n",
       "325  2059        King\n",
       "326  2060      Chehov\n",
       "327  2061   Pratchett\n",
       "328  2062   Pratchett\n",
       "329  2063    Bulychev\n",
       "\n",
       "[330 rows x 2 columns]"
      ]
     },
     "execution_count": 16,
     "metadata": {},
     "output_type": "execute_result"
    }
   ],
   "source": [
    "answer"
   ]
  },
  {
   "cell_type": "markdown",
   "id": "4fa6bd44",
   "metadata": {
    "papermill": {
     "duration": 0.007904,
     "end_time": "2022-06-06T19:37:26.570306",
     "exception": false,
     "start_time": "2022-06-06T19:37:26.562402",
     "status": "completed"
    },
    "tags": []
   },
   "source": [
    "## **4. The results of our work**\n",
    "#### As you can see, the model specifically designed for classification, I also tried a laptop to play with a neural network, in theory, it is certainly much smarter. Try your variants, it is interesting to see! Thanks for reading!\n",
    "![](http://ic.pics.livejournal.com/choodo7/60378694/98257/98257_900.jpg)"
   ]
  }
 ],
 "metadata": {
  "kernelspec": {
   "display_name": "Python 3",
   "language": "python",
   "name": "python3"
  },
  "language_info": {
   "codemirror_mode": {
    "name": "ipython",
    "version": 3
   },
   "file_extension": ".py",
   "mimetype": "text/x-python",
   "name": "python",
   "nbconvert_exporter": "python",
   "pygments_lexer": "ipython3",
   "version": "3.7.12"
  },
  "papermill": {
   "default_parameters": {},
   "duration": 22.016062,
   "end_time": "2022-06-06T19:37:27.804321",
   "environment_variables": {},
   "exception": null,
   "input_path": "__notebook__.ipynb",
   "output_path": "__notebook__.ipynb",
   "parameters": {},
   "start_time": "2022-06-06T19:37:05.788259",
   "version": "2.3.4"
  }
 },
 "nbformat": 4,
 "nbformat_minor": 5
}
