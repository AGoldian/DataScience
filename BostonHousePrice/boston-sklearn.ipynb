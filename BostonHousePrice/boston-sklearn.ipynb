{
 "cells": [
  {
   "cell_type": "markdown",
   "id": "53f4d1eb",
   "metadata": {
    "papermill": {
     "duration": 0.036074,
     "end_time": "2022-01-19T20:32:32.759372",
     "exception": false,
     "start_time": "2022-01-19T20:32:32.723298",
     "status": "completed"
    },
    "tags": []
   },
   "source": [
    "# **Анализ данных \"Boston\" и построение модели стоимости домов**"
   ]
  },
  {
   "cell_type": "markdown",
   "id": "b8524dbc",
   "metadata": {
    "papermill": {
     "duration": 0.036755,
     "end_time": "2022-01-19T20:32:32.831691",
     "exception": false,
     "start_time": "2022-01-19T20:32:32.794936",
     "status": "completed"
    },
    "tags": []
   },
   "source": [
    "## Загрузка данных"
   ]
  },
  {
   "cell_type": "code",
   "execution_count": 1,
   "id": "c29dd3dd",
   "metadata": {
    "execution": {
     "iopub.execute_input": "2022-01-19T20:32:32.907951Z",
     "iopub.status.busy": "2022-01-19T20:32:32.906654Z",
     "iopub.status.idle": "2022-01-19T20:32:32.916233Z",
     "shell.execute_reply": "2022-01-19T20:32:32.916908Z",
     "shell.execute_reply.started": "2022-01-19T20:30:53.533400Z"
    },
    "papermill": {
     "duration": 0.049743,
     "end_time": "2022-01-19T20:32:32.917232",
     "exception": false,
     "start_time": "2022-01-19T20:32:32.867489",
     "status": "completed"
    },
    "tags": []
   },
   "outputs": [],
   "source": [
    "import pandas as pd\n",
    "import numpy as np"
   ]
  },
  {
   "cell_type": "code",
   "execution_count": 2,
   "id": "1e0ec678",
   "metadata": {
    "execution": {
     "iopub.execute_input": "2022-01-19T20:32:32.991909Z",
     "iopub.status.busy": "2022-01-19T20:32:32.991161Z",
     "iopub.status.idle": "2022-01-19T20:32:34.206531Z",
     "shell.execute_reply": "2022-01-19T20:32:34.205924Z",
     "shell.execute_reply.started": "2022-01-19T20:30:53.540520Z"
    },
    "papermill": {
     "duration": 1.252668,
     "end_time": "2022-01-19T20:32:34.206720",
     "exception": false,
     "start_time": "2022-01-19T20:32:32.954052",
     "status": "completed"
    },
    "tags": []
   },
   "outputs": [],
   "source": [
    "from sklearn.datasets import load_boston\n",
    "data_boston = load_boston()"
   ]
  },
  {
   "cell_type": "code",
   "execution_count": 3,
   "id": "5ec6a31e",
   "metadata": {
    "execution": {
     "iopub.execute_input": "2022-01-19T20:32:34.278455Z",
     "iopub.status.busy": "2022-01-19T20:32:34.277361Z",
     "iopub.status.idle": "2022-01-19T20:32:34.307999Z",
     "shell.execute_reply": "2022-01-19T20:32:34.308532Z",
     "shell.execute_reply.started": "2022-01-19T20:30:53.564430Z"
    },
    "papermill": {
     "duration": 0.067149,
     "end_time": "2022-01-19T20:32:34.308728",
     "exception": false,
     "start_time": "2022-01-19T20:32:34.241579",
     "status": "completed"
    },
    "tags": []
   },
   "outputs": [
    {
     "data": {
      "text/html": [
       "<div>\n",
       "<style scoped>\n",
       "    .dataframe tbody tr th:only-of-type {\n",
       "        vertical-align: middle;\n",
       "    }\n",
       "\n",
       "    .dataframe tbody tr th {\n",
       "        vertical-align: top;\n",
       "    }\n",
       "\n",
       "    .dataframe thead th {\n",
       "        text-align: right;\n",
       "    }\n",
       "</style>\n",
       "<table border=\"1\" class=\"dataframe\">\n",
       "  <thead>\n",
       "    <tr style=\"text-align: right;\">\n",
       "      <th></th>\n",
       "      <th>0</th>\n",
       "      <th>1</th>\n",
       "      <th>2</th>\n",
       "      <th>3</th>\n",
       "      <th>4</th>\n",
       "      <th>5</th>\n",
       "      <th>6</th>\n",
       "      <th>7</th>\n",
       "      <th>8</th>\n",
       "      <th>9</th>\n",
       "      <th>10</th>\n",
       "      <th>11</th>\n",
       "      <th>12</th>\n",
       "    </tr>\n",
       "  </thead>\n",
       "  <tbody>\n",
       "    <tr>\n",
       "      <th>0</th>\n",
       "      <td>0.00632</td>\n",
       "      <td>18.0</td>\n",
       "      <td>2.31</td>\n",
       "      <td>0.0</td>\n",
       "      <td>0.538</td>\n",
       "      <td>6.575</td>\n",
       "      <td>65.2</td>\n",
       "      <td>4.0900</td>\n",
       "      <td>1.0</td>\n",
       "      <td>296.0</td>\n",
       "      <td>15.3</td>\n",
       "      <td>396.90</td>\n",
       "      <td>4.98</td>\n",
       "    </tr>\n",
       "    <tr>\n",
       "      <th>1</th>\n",
       "      <td>0.02731</td>\n",
       "      <td>0.0</td>\n",
       "      <td>7.07</td>\n",
       "      <td>0.0</td>\n",
       "      <td>0.469</td>\n",
       "      <td>6.421</td>\n",
       "      <td>78.9</td>\n",
       "      <td>4.9671</td>\n",
       "      <td>2.0</td>\n",
       "      <td>242.0</td>\n",
       "      <td>17.8</td>\n",
       "      <td>396.90</td>\n",
       "      <td>9.14</td>\n",
       "    </tr>\n",
       "    <tr>\n",
       "      <th>2</th>\n",
       "      <td>0.02729</td>\n",
       "      <td>0.0</td>\n",
       "      <td>7.07</td>\n",
       "      <td>0.0</td>\n",
       "      <td>0.469</td>\n",
       "      <td>7.185</td>\n",
       "      <td>61.1</td>\n",
       "      <td>4.9671</td>\n",
       "      <td>2.0</td>\n",
       "      <td>242.0</td>\n",
       "      <td>17.8</td>\n",
       "      <td>392.83</td>\n",
       "      <td>4.03</td>\n",
       "    </tr>\n",
       "    <tr>\n",
       "      <th>3</th>\n",
       "      <td>0.03237</td>\n",
       "      <td>0.0</td>\n",
       "      <td>2.18</td>\n",
       "      <td>0.0</td>\n",
       "      <td>0.458</td>\n",
       "      <td>6.998</td>\n",
       "      <td>45.8</td>\n",
       "      <td>6.0622</td>\n",
       "      <td>3.0</td>\n",
       "      <td>222.0</td>\n",
       "      <td>18.7</td>\n",
       "      <td>394.63</td>\n",
       "      <td>2.94</td>\n",
       "    </tr>\n",
       "    <tr>\n",
       "      <th>4</th>\n",
       "      <td>0.06905</td>\n",
       "      <td>0.0</td>\n",
       "      <td>2.18</td>\n",
       "      <td>0.0</td>\n",
       "      <td>0.458</td>\n",
       "      <td>7.147</td>\n",
       "      <td>54.2</td>\n",
       "      <td>6.0622</td>\n",
       "      <td>3.0</td>\n",
       "      <td>222.0</td>\n",
       "      <td>18.7</td>\n",
       "      <td>396.90</td>\n",
       "      <td>5.33</td>\n",
       "    </tr>\n",
       "  </tbody>\n",
       "</table>\n",
       "</div>"
      ],
      "text/plain": [
       "        0     1     2    3      4      5     6       7    8      9     10  \\\n",
       "0  0.00632  18.0  2.31  0.0  0.538  6.575  65.2  4.0900  1.0  296.0  15.3   \n",
       "1  0.02731   0.0  7.07  0.0  0.469  6.421  78.9  4.9671  2.0  242.0  17.8   \n",
       "2  0.02729   0.0  7.07  0.0  0.469  7.185  61.1  4.9671  2.0  242.0  17.8   \n",
       "3  0.03237   0.0  2.18  0.0  0.458  6.998  45.8  6.0622  3.0  222.0  18.7   \n",
       "4  0.06905   0.0  2.18  0.0  0.458  7.147  54.2  6.0622  3.0  222.0  18.7   \n",
       "\n",
       "       11    12  \n",
       "0  396.90  4.98  \n",
       "1  396.90  9.14  \n",
       "2  392.83  4.03  \n",
       "3  394.63  2.94  \n",
       "4  396.90  5.33  "
      ]
     },
     "execution_count": 3,
     "metadata": {},
     "output_type": "execute_result"
    }
   ],
   "source": [
    "df = pd.DataFrame(data_boston.data)\n",
    "df.head()"
   ]
  },
  {
   "cell_type": "code",
   "execution_count": 4,
   "id": "5e0cfa2b",
   "metadata": {
    "execution": {
     "iopub.execute_input": "2022-01-19T20:32:34.383251Z",
     "iopub.status.busy": "2022-01-19T20:32:34.382148Z",
     "iopub.status.idle": "2022-01-19T20:32:34.388621Z",
     "shell.execute_reply": "2022-01-19T20:32:34.389503Z",
     "shell.execute_reply.started": "2022-01-19T20:30:53.593073Z"
    },
    "papermill": {
     "duration": 0.044287,
     "end_time": "2022-01-19T20:32:34.389751",
     "exception": false,
     "start_time": "2022-01-19T20:32:34.345464",
     "status": "completed"
    },
    "tags": []
   },
   "outputs": [
    {
     "name": "stdout",
     "output_type": "stream",
     "text": [
      ".. _boston_dataset:\n",
      "\n",
      "Boston house prices dataset\n",
      "---------------------------\n",
      "\n",
      "**Data Set Characteristics:**  \n",
      "\n",
      "    :Number of Instances: 506 \n",
      "\n",
      "    :Number of Attributes: 13 numeric/categorical predictive. Median Value (attribute 14) is usually the target.\n",
      "\n",
      "    :Attribute Information (in order):\n",
      "        - CRIM     per capita crime rate by town\n",
      "        - ZN       proportion of residential land zoned for lots over 25,000 sq.ft.\n",
      "        - INDUS    proportion of non-retail business acres per town\n",
      "        - CHAS     Charles River dummy variable (= 1 if tract bounds river; 0 otherwise)\n",
      "        - NOX      nitric oxides concentration (parts per 10 million)\n",
      "        - RM       average number of rooms per dwelling\n",
      "        - AGE      proportion of owner-occupied units built prior to 1940\n",
      "        - DIS      weighted distances to five Boston employment centres\n",
      "        - RAD      index of accessibility to radial highways\n",
      "        - TAX      full-value property-tax rate per $10,000\n",
      "        - PTRATIO  pupil-teacher ratio by town\n",
      "        - B        1000(Bk - 0.63)^2 where Bk is the proportion of blacks by town\n",
      "        - LSTAT    % lower status of the population\n",
      "        - MEDV     Median value of owner-occupied homes in $1000's\n",
      "\n",
      "    :Missing Attribute Values: None\n",
      "\n",
      "    :Creator: Harrison, D. and Rubinfeld, D.L.\n",
      "\n",
      "This is a copy of UCI ML housing dataset.\n",
      "https://archive.ics.uci.edu/ml/machine-learning-databases/housing/\n",
      "\n",
      "\n",
      "This dataset was taken from the StatLib library which is maintained at Carnegie Mellon University.\n",
      "\n",
      "The Boston house-price data of Harrison, D. and Rubinfeld, D.L. 'Hedonic\n",
      "prices and the demand for clean air', J. Environ. Economics & Management,\n",
      "vol.5, 81-102, 1978.   Used in Belsley, Kuh & Welsch, 'Regression diagnostics\n",
      "...', Wiley, 1980.   N.B. Various transformations are used in the table on\n",
      "pages 244-261 of the latter.\n",
      "\n",
      "The Boston house-price data has been used in many machine learning papers that address regression\n",
      "problems.   \n",
      "     \n",
      ".. topic:: References\n",
      "\n",
      "   - Belsley, Kuh & Welsch, 'Regression diagnostics: Identifying Influential Data and Sources of Collinearity', Wiley, 1980. 244-261.\n",
      "   - Quinlan,R. (1993). Combining Instance-Based and Model-Based Learning. In Proceedings on the Tenth International Conference of Machine Learning, 236-243, University of Massachusetts, Amherst. Morgan Kaufmann.\n",
      "\n"
     ]
    }
   ],
   "source": [
    "#Выведем описание данных\n",
    "print(data_boston.DESCR)"
   ]
  },
  {
   "cell_type": "markdown",
   "id": "8210a460",
   "metadata": {
    "papermill": {
     "duration": 0.033895,
     "end_time": "2022-01-19T20:32:34.458355",
     "exception": false,
     "start_time": "2022-01-19T20:32:34.424460",
     "status": "completed"
    },
    "tags": []
   },
   "source": [
    "## Обработаем полученные данные"
   ]
  },
  {
   "cell_type": "code",
   "execution_count": 5,
   "id": "c50f7d78",
   "metadata": {
    "execution": {
     "iopub.execute_input": "2022-01-19T20:32:34.537497Z",
     "iopub.status.busy": "2022-01-19T20:32:34.536716Z",
     "iopub.status.idle": "2022-01-19T20:32:34.557744Z",
     "shell.execute_reply": "2022-01-19T20:32:34.558299Z",
     "shell.execute_reply.started": "2022-01-19T20:30:53.608667Z"
    },
    "papermill": {
     "duration": 0.065186,
     "end_time": "2022-01-19T20:32:34.558473",
     "exception": false,
     "start_time": "2022-01-19T20:32:34.493287",
     "status": "completed"
    },
    "tags": []
   },
   "outputs": [
    {
     "data": {
      "text/html": [
       "<div>\n",
       "<style scoped>\n",
       "    .dataframe tbody tr th:only-of-type {\n",
       "        vertical-align: middle;\n",
       "    }\n",
       "\n",
       "    .dataframe tbody tr th {\n",
       "        vertical-align: top;\n",
       "    }\n",
       "\n",
       "    .dataframe thead th {\n",
       "        text-align: right;\n",
       "    }\n",
       "</style>\n",
       "<table border=\"1\" class=\"dataframe\">\n",
       "  <thead>\n",
       "    <tr style=\"text-align: right;\">\n",
       "      <th></th>\n",
       "      <th>CRIM</th>\n",
       "      <th>ZN</th>\n",
       "      <th>INDUS</th>\n",
       "      <th>CHAS</th>\n",
       "      <th>NOX</th>\n",
       "      <th>RM</th>\n",
       "      <th>AGE</th>\n",
       "      <th>DIS</th>\n",
       "      <th>RAD</th>\n",
       "      <th>TAX</th>\n",
       "      <th>PTRATIO</th>\n",
       "      <th>B</th>\n",
       "      <th>LSTAT</th>\n",
       "    </tr>\n",
       "  </thead>\n",
       "  <tbody>\n",
       "    <tr>\n",
       "      <th>0</th>\n",
       "      <td>0.00632</td>\n",
       "      <td>18.0</td>\n",
       "      <td>2.31</td>\n",
       "      <td>0.0</td>\n",
       "      <td>0.538</td>\n",
       "      <td>6.575</td>\n",
       "      <td>65.2</td>\n",
       "      <td>4.0900</td>\n",
       "      <td>1.0</td>\n",
       "      <td>296.0</td>\n",
       "      <td>15.3</td>\n",
       "      <td>396.90</td>\n",
       "      <td>4.98</td>\n",
       "    </tr>\n",
       "    <tr>\n",
       "      <th>1</th>\n",
       "      <td>0.02731</td>\n",
       "      <td>0.0</td>\n",
       "      <td>7.07</td>\n",
       "      <td>0.0</td>\n",
       "      <td>0.469</td>\n",
       "      <td>6.421</td>\n",
       "      <td>78.9</td>\n",
       "      <td>4.9671</td>\n",
       "      <td>2.0</td>\n",
       "      <td>242.0</td>\n",
       "      <td>17.8</td>\n",
       "      <td>396.90</td>\n",
       "      <td>9.14</td>\n",
       "    </tr>\n",
       "    <tr>\n",
       "      <th>2</th>\n",
       "      <td>0.02729</td>\n",
       "      <td>0.0</td>\n",
       "      <td>7.07</td>\n",
       "      <td>0.0</td>\n",
       "      <td>0.469</td>\n",
       "      <td>7.185</td>\n",
       "      <td>61.1</td>\n",
       "      <td>4.9671</td>\n",
       "      <td>2.0</td>\n",
       "      <td>242.0</td>\n",
       "      <td>17.8</td>\n",
       "      <td>392.83</td>\n",
       "      <td>4.03</td>\n",
       "    </tr>\n",
       "    <tr>\n",
       "      <th>3</th>\n",
       "      <td>0.03237</td>\n",
       "      <td>0.0</td>\n",
       "      <td>2.18</td>\n",
       "      <td>0.0</td>\n",
       "      <td>0.458</td>\n",
       "      <td>6.998</td>\n",
       "      <td>45.8</td>\n",
       "      <td>6.0622</td>\n",
       "      <td>3.0</td>\n",
       "      <td>222.0</td>\n",
       "      <td>18.7</td>\n",
       "      <td>394.63</td>\n",
       "      <td>2.94</td>\n",
       "    </tr>\n",
       "    <tr>\n",
       "      <th>4</th>\n",
       "      <td>0.06905</td>\n",
       "      <td>0.0</td>\n",
       "      <td>2.18</td>\n",
       "      <td>0.0</td>\n",
       "      <td>0.458</td>\n",
       "      <td>7.147</td>\n",
       "      <td>54.2</td>\n",
       "      <td>6.0622</td>\n",
       "      <td>3.0</td>\n",
       "      <td>222.0</td>\n",
       "      <td>18.7</td>\n",
       "      <td>396.90</td>\n",
       "      <td>5.33</td>\n",
       "    </tr>\n",
       "  </tbody>\n",
       "</table>\n",
       "</div>"
      ],
      "text/plain": [
       "      CRIM    ZN  INDUS  CHAS    NOX     RM   AGE     DIS  RAD    TAX  \\\n",
       "0  0.00632  18.0   2.31   0.0  0.538  6.575  65.2  4.0900  1.0  296.0   \n",
       "1  0.02731   0.0   7.07   0.0  0.469  6.421  78.9  4.9671  2.0  242.0   \n",
       "2  0.02729   0.0   7.07   0.0  0.469  7.185  61.1  4.9671  2.0  242.0   \n",
       "3  0.03237   0.0   2.18   0.0  0.458  6.998  45.8  6.0622  3.0  222.0   \n",
       "4  0.06905   0.0   2.18   0.0  0.458  7.147  54.2  6.0622  3.0  222.0   \n",
       "\n",
       "   PTRATIO       B  LSTAT  \n",
       "0     15.3  396.90   4.98  \n",
       "1     17.8  396.90   9.14  \n",
       "2     17.8  392.83   4.03  \n",
       "3     18.7  394.63   2.94  \n",
       "4     18.7  396.90   5.33  "
      ]
     },
     "execution_count": 5,
     "metadata": {},
     "output_type": "execute_result"
    }
   ],
   "source": [
    "#Подставим названия столбцов из аттрибутов данных\n",
    "\n",
    "df.columns = data_boston.feature_names\n",
    "df.head()"
   ]
  },
  {
   "cell_type": "code",
   "execution_count": 6,
   "id": "0675d308",
   "metadata": {
    "execution": {
     "iopub.execute_input": "2022-01-19T20:32:34.631660Z",
     "iopub.status.busy": "2022-01-19T20:32:34.630639Z",
     "iopub.status.idle": "2022-01-19T20:32:34.657027Z",
     "shell.execute_reply": "2022-01-19T20:32:34.657577Z",
     "shell.execute_reply.started": "2022-01-19T20:30:53.645791Z"
    },
    "papermill": {
     "duration": 0.064729,
     "end_time": "2022-01-19T20:32:34.657774",
     "exception": false,
     "start_time": "2022-01-19T20:32:34.593045",
     "status": "completed"
    },
    "tags": []
   },
   "outputs": [
    {
     "data": {
      "text/html": [
       "<div>\n",
       "<style scoped>\n",
       "    .dataframe tbody tr th:only-of-type {\n",
       "        vertical-align: middle;\n",
       "    }\n",
       "\n",
       "    .dataframe tbody tr th {\n",
       "        vertical-align: top;\n",
       "    }\n",
       "\n",
       "    .dataframe thead th {\n",
       "        text-align: right;\n",
       "    }\n",
       "</style>\n",
       "<table border=\"1\" class=\"dataframe\">\n",
       "  <thead>\n",
       "    <tr style=\"text-align: right;\">\n",
       "      <th></th>\n",
       "      <th>CRIM</th>\n",
       "      <th>ZN</th>\n",
       "      <th>INDUS</th>\n",
       "      <th>CHAS</th>\n",
       "      <th>NOX</th>\n",
       "      <th>RM</th>\n",
       "      <th>AGE</th>\n",
       "      <th>DIS</th>\n",
       "      <th>RAD</th>\n",
       "      <th>TAX</th>\n",
       "      <th>PTRATIO</th>\n",
       "      <th>B</th>\n",
       "      <th>LSTAT</th>\n",
       "      <th>MEDV</th>\n",
       "    </tr>\n",
       "  </thead>\n",
       "  <tbody>\n",
       "    <tr>\n",
       "      <th>0</th>\n",
       "      <td>0.00632</td>\n",
       "      <td>18.0</td>\n",
       "      <td>2.31</td>\n",
       "      <td>0.0</td>\n",
       "      <td>0.538</td>\n",
       "      <td>6.575</td>\n",
       "      <td>65.2</td>\n",
       "      <td>4.0900</td>\n",
       "      <td>1.0</td>\n",
       "      <td>296.0</td>\n",
       "      <td>15.3</td>\n",
       "      <td>396.90</td>\n",
       "      <td>4.98</td>\n",
       "      <td>24.0</td>\n",
       "    </tr>\n",
       "    <tr>\n",
       "      <th>1</th>\n",
       "      <td>0.02731</td>\n",
       "      <td>0.0</td>\n",
       "      <td>7.07</td>\n",
       "      <td>0.0</td>\n",
       "      <td>0.469</td>\n",
       "      <td>6.421</td>\n",
       "      <td>78.9</td>\n",
       "      <td>4.9671</td>\n",
       "      <td>2.0</td>\n",
       "      <td>242.0</td>\n",
       "      <td>17.8</td>\n",
       "      <td>396.90</td>\n",
       "      <td>9.14</td>\n",
       "      <td>21.6</td>\n",
       "    </tr>\n",
       "    <tr>\n",
       "      <th>2</th>\n",
       "      <td>0.02729</td>\n",
       "      <td>0.0</td>\n",
       "      <td>7.07</td>\n",
       "      <td>0.0</td>\n",
       "      <td>0.469</td>\n",
       "      <td>7.185</td>\n",
       "      <td>61.1</td>\n",
       "      <td>4.9671</td>\n",
       "      <td>2.0</td>\n",
       "      <td>242.0</td>\n",
       "      <td>17.8</td>\n",
       "      <td>392.83</td>\n",
       "      <td>4.03</td>\n",
       "      <td>34.7</td>\n",
       "    </tr>\n",
       "    <tr>\n",
       "      <th>3</th>\n",
       "      <td>0.03237</td>\n",
       "      <td>0.0</td>\n",
       "      <td>2.18</td>\n",
       "      <td>0.0</td>\n",
       "      <td>0.458</td>\n",
       "      <td>6.998</td>\n",
       "      <td>45.8</td>\n",
       "      <td>6.0622</td>\n",
       "      <td>3.0</td>\n",
       "      <td>222.0</td>\n",
       "      <td>18.7</td>\n",
       "      <td>394.63</td>\n",
       "      <td>2.94</td>\n",
       "      <td>33.4</td>\n",
       "    </tr>\n",
       "    <tr>\n",
       "      <th>4</th>\n",
       "      <td>0.06905</td>\n",
       "      <td>0.0</td>\n",
       "      <td>2.18</td>\n",
       "      <td>0.0</td>\n",
       "      <td>0.458</td>\n",
       "      <td>7.147</td>\n",
       "      <td>54.2</td>\n",
       "      <td>6.0622</td>\n",
       "      <td>3.0</td>\n",
       "      <td>222.0</td>\n",
       "      <td>18.7</td>\n",
       "      <td>396.90</td>\n",
       "      <td>5.33</td>\n",
       "      <td>36.2</td>\n",
       "    </tr>\n",
       "  </tbody>\n",
       "</table>\n",
       "</div>"
      ],
      "text/plain": [
       "      CRIM    ZN  INDUS  CHAS    NOX     RM   AGE     DIS  RAD    TAX  \\\n",
       "0  0.00632  18.0   2.31   0.0  0.538  6.575  65.2  4.0900  1.0  296.0   \n",
       "1  0.02731   0.0   7.07   0.0  0.469  6.421  78.9  4.9671  2.0  242.0   \n",
       "2  0.02729   0.0   7.07   0.0  0.469  7.185  61.1  4.9671  2.0  242.0   \n",
       "3  0.03237   0.0   2.18   0.0  0.458  6.998  45.8  6.0622  3.0  222.0   \n",
       "4  0.06905   0.0   2.18   0.0  0.458  7.147  54.2  6.0622  3.0  222.0   \n",
       "\n",
       "   PTRATIO       B  LSTAT  MEDV  \n",
       "0     15.3  396.90   4.98  24.0  \n",
       "1     17.8  396.90   9.14  21.6  \n",
       "2     17.8  392.83   4.03  34.7  \n",
       "3     18.7  394.63   2.94  33.4  \n",
       "4     18.7  396.90   5.33  36.2  "
      ]
     },
     "execution_count": 6,
     "metadata": {},
     "output_type": "execute_result"
    }
   ],
   "source": [
    "#Добавим колонку средней цены дома\n",
    "\n",
    "df['MEDV'] = data_boston.target\n",
    "df.head()"
   ]
  },
  {
   "cell_type": "markdown",
   "id": "fd0a7baf",
   "metadata": {
    "papermill": {
     "duration": 0.035015,
     "end_time": "2022-01-19T20:32:34.727736",
     "exception": false,
     "start_time": "2022-01-19T20:32:34.692721",
     "status": "completed"
    },
    "tags": []
   },
   "source": [
    "* CRIM - Уровень преступности на душу населения по городам\n",
    "* ZN - Доля земли под жилую застройку зонирована под участки площадью более 25 000 кв.м\n",
    "* INDUS - Доля акров неторгового бизнеса на город\n",
    "* CHAS - Фиктивная переменная Charles River (= 1, если участок граничит с рекой; 0 в противном случае)\n",
    "* NOX - Концентрация оксидов азота (частей на 10 миллионов)\n",
    "* RM - Среднее количество комнат в жилом помещении\n",
    "* AGE - Доля квартир, занимаемых владельцами, построенных до 1940 г\n",
    "* DIS - Взвешивает расстояния до пяти центров занятости Бостона\n",
    "* RAD - Индекс доступности к радиальным магистралям\n",
    "* TAX - Полная ставка налога на имущество за 10 000 долларов США\n",
    "* PTRATIO - Соотношение учеников и учителей по городам\n",
    "* B - 1000(Bk - 0.63)^2, где Bk - доля чернокожих по городам\n",
    "* LSTAT - %более низкий статус населения\n",
    "* MEDV - Средняя стоимость домов, занимаемых владельцами, в 1000 долларов"
   ]
  },
  {
   "cell_type": "code",
   "execution_count": 7,
   "id": "109310d8",
   "metadata": {
    "execution": {
     "iopub.execute_input": "2022-01-19T20:32:34.802661Z",
     "iopub.status.busy": "2022-01-19T20:32:34.801594Z",
     "iopub.status.idle": "2022-01-19T20:32:34.825497Z",
     "shell.execute_reply": "2022-01-19T20:32:34.826097Z",
     "shell.execute_reply.started": "2022-01-19T20:30:53.676229Z"
    },
    "papermill": {
     "duration": 0.062938,
     "end_time": "2022-01-19T20:32:34.826306",
     "exception": false,
     "start_time": "2022-01-19T20:32:34.763368",
     "status": "completed"
    },
    "tags": []
   },
   "outputs": [
    {
     "name": "stdout",
     "output_type": "stream",
     "text": [
      "<class 'pandas.core.frame.DataFrame'>\n",
      "RangeIndex: 506 entries, 0 to 505\n",
      "Data columns (total 14 columns):\n",
      " #   Column   Non-Null Count  Dtype  \n",
      "---  ------   --------------  -----  \n",
      " 0   CRIM     506 non-null    float64\n",
      " 1   ZN       506 non-null    float64\n",
      " 2   INDUS    506 non-null    float64\n",
      " 3   CHAS     506 non-null    float64\n",
      " 4   NOX      506 non-null    float64\n",
      " 5   RM       506 non-null    float64\n",
      " 6   AGE      506 non-null    float64\n",
      " 7   DIS      506 non-null    float64\n",
      " 8   RAD      506 non-null    float64\n",
      " 9   TAX      506 non-null    float64\n",
      " 10  PTRATIO  506 non-null    float64\n",
      " 11  B        506 non-null    float64\n",
      " 12  LSTAT    506 non-null    float64\n",
      " 13  MEDV     506 non-null    float64\n",
      "dtypes: float64(14)\n",
      "memory usage: 55.5 KB\n"
     ]
    }
   ],
   "source": [
    "#Выведем основные данные о датафрейме\n",
    "df.info()"
   ]
  },
  {
   "cell_type": "markdown",
   "id": "38750d25",
   "metadata": {
    "papermill": {
     "duration": 0.035753,
     "end_time": "2022-01-19T20:32:34.897400",
     "exception": false,
     "start_time": "2022-01-19T20:32:34.861647",
     "status": "completed"
    },
    "tags": []
   },
   "source": [
    "Как можно увидеть, все признаки являются числовыми в формате float"
   ]
  },
  {
   "cell_type": "code",
   "execution_count": 8,
   "id": "f15a251c",
   "metadata": {
    "execution": {
     "iopub.execute_input": "2022-01-19T20:32:34.972353Z",
     "iopub.status.busy": "2022-01-19T20:32:34.971321Z",
     "iopub.status.idle": "2022-01-19T20:32:34.979536Z",
     "shell.execute_reply": "2022-01-19T20:32:34.980164Z",
     "shell.execute_reply.started": "2022-01-19T20:30:53.695831Z"
    },
    "papermill": {
     "duration": 0.047604,
     "end_time": "2022-01-19T20:32:34.980341",
     "exception": false,
     "start_time": "2022-01-19T20:32:34.932737",
     "status": "completed"
    },
    "tags": []
   },
   "outputs": [
    {
     "data": {
      "text/plain": [
       "CRIM       0\n",
       "ZN         0\n",
       "INDUS      0\n",
       "CHAS       0\n",
       "NOX        0\n",
       "RM         0\n",
       "AGE        0\n",
       "DIS        0\n",
       "RAD        0\n",
       "TAX        0\n",
       "PTRATIO    0\n",
       "B          0\n",
       "LSTAT      0\n",
       "MEDV       0\n",
       "dtype: int64"
      ]
     },
     "execution_count": 8,
     "metadata": {},
     "output_type": "execute_result"
    }
   ],
   "source": [
    "#Посчитаем количество пустых значений\n",
    "df.isnull().sum()"
   ]
  },
  {
   "cell_type": "markdown",
   "id": "ba095aa9",
   "metadata": {
    "papermill": {
     "duration": 0.036032,
     "end_time": "2022-01-19T20:32:35.052848",
     "exception": false,
     "start_time": "2022-01-19T20:32:35.016816",
     "status": "completed"
    },
    "tags": []
   },
   "source": [
    "Пустых значений нет"
   ]
  },
  {
   "cell_type": "code",
   "execution_count": 9,
   "id": "fa48c3f6",
   "metadata": {
    "execution": {
     "iopub.execute_input": "2022-01-19T20:32:35.131111Z",
     "iopub.status.busy": "2022-01-19T20:32:35.130384Z",
     "iopub.status.idle": "2022-01-19T20:32:35.178904Z",
     "shell.execute_reply": "2022-01-19T20:32:35.178043Z",
     "shell.execute_reply.started": "2022-01-19T20:30:53.706841Z"
    },
    "papermill": {
     "duration": 0.09063,
     "end_time": "2022-01-19T20:32:35.179061",
     "exception": false,
     "start_time": "2022-01-19T20:32:35.088431",
     "status": "completed"
    },
    "tags": []
   },
   "outputs": [
    {
     "data": {
      "text/html": [
       "<div>\n",
       "<style scoped>\n",
       "    .dataframe tbody tr th:only-of-type {\n",
       "        vertical-align: middle;\n",
       "    }\n",
       "\n",
       "    .dataframe tbody tr th {\n",
       "        vertical-align: top;\n",
       "    }\n",
       "\n",
       "    .dataframe thead th {\n",
       "        text-align: right;\n",
       "    }\n",
       "</style>\n",
       "<table border=\"1\" class=\"dataframe\">\n",
       "  <thead>\n",
       "    <tr style=\"text-align: right;\">\n",
       "      <th></th>\n",
       "      <th>CRIM</th>\n",
       "      <th>ZN</th>\n",
       "      <th>INDUS</th>\n",
       "      <th>CHAS</th>\n",
       "      <th>NOX</th>\n",
       "      <th>RM</th>\n",
       "      <th>AGE</th>\n",
       "      <th>DIS</th>\n",
       "      <th>RAD</th>\n",
       "      <th>TAX</th>\n",
       "      <th>PTRATIO</th>\n",
       "      <th>B</th>\n",
       "      <th>LSTAT</th>\n",
       "      <th>MEDV</th>\n",
       "    </tr>\n",
       "  </thead>\n",
       "  <tbody>\n",
       "    <tr>\n",
       "      <th>count</th>\n",
       "      <td>506.000000</td>\n",
       "      <td>506.000000</td>\n",
       "      <td>506.000000</td>\n",
       "      <td>506.000000</td>\n",
       "      <td>506.000000</td>\n",
       "      <td>506.000000</td>\n",
       "      <td>506.000000</td>\n",
       "      <td>506.000000</td>\n",
       "      <td>506.000000</td>\n",
       "      <td>506.000000</td>\n",
       "      <td>506.000000</td>\n",
       "      <td>506.000000</td>\n",
       "      <td>506.000000</td>\n",
       "      <td>506.000000</td>\n",
       "    </tr>\n",
       "    <tr>\n",
       "      <th>mean</th>\n",
       "      <td>3.613524</td>\n",
       "      <td>11.363636</td>\n",
       "      <td>11.136779</td>\n",
       "      <td>0.069170</td>\n",
       "      <td>0.554695</td>\n",
       "      <td>6.284634</td>\n",
       "      <td>68.574901</td>\n",
       "      <td>3.795043</td>\n",
       "      <td>9.549407</td>\n",
       "      <td>408.237154</td>\n",
       "      <td>18.455534</td>\n",
       "      <td>356.674032</td>\n",
       "      <td>12.653063</td>\n",
       "      <td>22.532806</td>\n",
       "    </tr>\n",
       "    <tr>\n",
       "      <th>std</th>\n",
       "      <td>8.601545</td>\n",
       "      <td>23.322453</td>\n",
       "      <td>6.860353</td>\n",
       "      <td>0.253994</td>\n",
       "      <td>0.115878</td>\n",
       "      <td>0.702617</td>\n",
       "      <td>28.148861</td>\n",
       "      <td>2.105710</td>\n",
       "      <td>8.707259</td>\n",
       "      <td>168.537116</td>\n",
       "      <td>2.164946</td>\n",
       "      <td>91.294864</td>\n",
       "      <td>7.141062</td>\n",
       "      <td>9.197104</td>\n",
       "    </tr>\n",
       "    <tr>\n",
       "      <th>min</th>\n",
       "      <td>0.006320</td>\n",
       "      <td>0.000000</td>\n",
       "      <td>0.460000</td>\n",
       "      <td>0.000000</td>\n",
       "      <td>0.385000</td>\n",
       "      <td>3.561000</td>\n",
       "      <td>2.900000</td>\n",
       "      <td>1.129600</td>\n",
       "      <td>1.000000</td>\n",
       "      <td>187.000000</td>\n",
       "      <td>12.600000</td>\n",
       "      <td>0.320000</td>\n",
       "      <td>1.730000</td>\n",
       "      <td>5.000000</td>\n",
       "    </tr>\n",
       "    <tr>\n",
       "      <th>25%</th>\n",
       "      <td>0.082045</td>\n",
       "      <td>0.000000</td>\n",
       "      <td>5.190000</td>\n",
       "      <td>0.000000</td>\n",
       "      <td>0.449000</td>\n",
       "      <td>5.885500</td>\n",
       "      <td>45.025000</td>\n",
       "      <td>2.100175</td>\n",
       "      <td>4.000000</td>\n",
       "      <td>279.000000</td>\n",
       "      <td>17.400000</td>\n",
       "      <td>375.377500</td>\n",
       "      <td>6.950000</td>\n",
       "      <td>17.025000</td>\n",
       "    </tr>\n",
       "    <tr>\n",
       "      <th>50%</th>\n",
       "      <td>0.256510</td>\n",
       "      <td>0.000000</td>\n",
       "      <td>9.690000</td>\n",
       "      <td>0.000000</td>\n",
       "      <td>0.538000</td>\n",
       "      <td>6.208500</td>\n",
       "      <td>77.500000</td>\n",
       "      <td>3.207450</td>\n",
       "      <td>5.000000</td>\n",
       "      <td>330.000000</td>\n",
       "      <td>19.050000</td>\n",
       "      <td>391.440000</td>\n",
       "      <td>11.360000</td>\n",
       "      <td>21.200000</td>\n",
       "    </tr>\n",
       "    <tr>\n",
       "      <th>75%</th>\n",
       "      <td>3.677083</td>\n",
       "      <td>12.500000</td>\n",
       "      <td>18.100000</td>\n",
       "      <td>0.000000</td>\n",
       "      <td>0.624000</td>\n",
       "      <td>6.623500</td>\n",
       "      <td>94.075000</td>\n",
       "      <td>5.188425</td>\n",
       "      <td>24.000000</td>\n",
       "      <td>666.000000</td>\n",
       "      <td>20.200000</td>\n",
       "      <td>396.225000</td>\n",
       "      <td>16.955000</td>\n",
       "      <td>25.000000</td>\n",
       "    </tr>\n",
       "    <tr>\n",
       "      <th>max</th>\n",
       "      <td>88.976200</td>\n",
       "      <td>100.000000</td>\n",
       "      <td>27.740000</td>\n",
       "      <td>1.000000</td>\n",
       "      <td>0.871000</td>\n",
       "      <td>8.780000</td>\n",
       "      <td>100.000000</td>\n",
       "      <td>12.126500</td>\n",
       "      <td>24.000000</td>\n",
       "      <td>711.000000</td>\n",
       "      <td>22.000000</td>\n",
       "      <td>396.900000</td>\n",
       "      <td>37.970000</td>\n",
       "      <td>50.000000</td>\n",
       "    </tr>\n",
       "  </tbody>\n",
       "</table>\n",
       "</div>"
      ],
      "text/plain": [
       "             CRIM          ZN       INDUS        CHAS         NOX          RM  \\\n",
       "count  506.000000  506.000000  506.000000  506.000000  506.000000  506.000000   \n",
       "mean     3.613524   11.363636   11.136779    0.069170    0.554695    6.284634   \n",
       "std      8.601545   23.322453    6.860353    0.253994    0.115878    0.702617   \n",
       "min      0.006320    0.000000    0.460000    0.000000    0.385000    3.561000   \n",
       "25%      0.082045    0.000000    5.190000    0.000000    0.449000    5.885500   \n",
       "50%      0.256510    0.000000    9.690000    0.000000    0.538000    6.208500   \n",
       "75%      3.677083   12.500000   18.100000    0.000000    0.624000    6.623500   \n",
       "max     88.976200  100.000000   27.740000    1.000000    0.871000    8.780000   \n",
       "\n",
       "              AGE         DIS         RAD         TAX     PTRATIO           B  \\\n",
       "count  506.000000  506.000000  506.000000  506.000000  506.000000  506.000000   \n",
       "mean    68.574901    3.795043    9.549407  408.237154   18.455534  356.674032   \n",
       "std     28.148861    2.105710    8.707259  168.537116    2.164946   91.294864   \n",
       "min      2.900000    1.129600    1.000000  187.000000   12.600000    0.320000   \n",
       "25%     45.025000    2.100175    4.000000  279.000000   17.400000  375.377500   \n",
       "50%     77.500000    3.207450    5.000000  330.000000   19.050000  391.440000   \n",
       "75%     94.075000    5.188425   24.000000  666.000000   20.200000  396.225000   \n",
       "max    100.000000   12.126500   24.000000  711.000000   22.000000  396.900000   \n",
       "\n",
       "            LSTAT        MEDV  \n",
       "count  506.000000  506.000000  \n",
       "mean    12.653063   22.532806  \n",
       "std      7.141062    9.197104  \n",
       "min      1.730000    5.000000  \n",
       "25%      6.950000   17.025000  \n",
       "50%     11.360000   21.200000  \n",
       "75%     16.955000   25.000000  \n",
       "max     37.970000   50.000000  "
      ]
     },
     "execution_count": 9,
     "metadata": {},
     "output_type": "execute_result"
    }
   ],
   "source": [
    "#Статитистические данные о признаках\n",
    "df.describe()"
   ]
  },
  {
   "cell_type": "markdown",
   "id": "ee6dabea",
   "metadata": {
    "papermill": {
     "duration": 0.035892,
     "end_time": "2022-01-19T20:32:35.252431",
     "exception": false,
     "start_time": "2022-01-19T20:32:35.216539",
     "status": "completed"
    },
    "tags": []
   },
   "source": [
    "Отсюда мы можем увидеть, что средняя цена всех домов в Бостоне - приблизительн 22000, при этом самый дешевый дом имеет цену 5000, а самый дорогой 50000 долларов."
   ]
  },
  {
   "cell_type": "markdown",
   "id": "43b402e1",
   "metadata": {
    "papermill": {
     "duration": 0.036051,
     "end_time": "2022-01-19T20:32:35.324910",
     "exception": false,
     "start_time": "2022-01-19T20:32:35.288859",
     "status": "completed"
    },
    "tags": []
   },
   "source": [
    "# **Визуализация данных**"
   ]
  },
  {
   "cell_type": "code",
   "execution_count": 10,
   "id": "4cf9161d",
   "metadata": {
    "execution": {
     "iopub.execute_input": "2022-01-19T20:32:35.401940Z",
     "iopub.status.busy": "2022-01-19T20:32:35.400940Z",
     "iopub.status.idle": "2022-01-19T20:32:35.426418Z",
     "shell.execute_reply": "2022-01-19T20:32:35.427094Z",
     "shell.execute_reply.started": "2022-01-19T20:30:53.765316Z"
    },
    "papermill": {
     "duration": 0.065966,
     "end_time": "2022-01-19T20:32:35.427279",
     "exception": false,
     "start_time": "2022-01-19T20:32:35.361313",
     "status": "completed"
    },
    "tags": []
   },
   "outputs": [
    {
     "data": {
      "text/html": [
       "<div>\n",
       "<style scoped>\n",
       "    .dataframe tbody tr th:only-of-type {\n",
       "        vertical-align: middle;\n",
       "    }\n",
       "\n",
       "    .dataframe tbody tr th {\n",
       "        vertical-align: top;\n",
       "    }\n",
       "\n",
       "    .dataframe thead th {\n",
       "        text-align: right;\n",
       "    }\n",
       "</style>\n",
       "<table border=\"1\" class=\"dataframe\">\n",
       "  <thead>\n",
       "    <tr style=\"text-align: right;\">\n",
       "      <th></th>\n",
       "      <th>CRIM</th>\n",
       "      <th>ZN</th>\n",
       "      <th>INDUS</th>\n",
       "      <th>CHAS</th>\n",
       "      <th>NOX</th>\n",
       "      <th>RM</th>\n",
       "      <th>AGE</th>\n",
       "      <th>DIS</th>\n",
       "      <th>RAD</th>\n",
       "      <th>TAX</th>\n",
       "      <th>PTRATIO</th>\n",
       "      <th>B</th>\n",
       "      <th>LSTAT</th>\n",
       "      <th>MEDV</th>\n",
       "    </tr>\n",
       "  </thead>\n",
       "  <tbody>\n",
       "    <tr>\n",
       "      <th>CRIM</th>\n",
       "      <td>1.000000</td>\n",
       "      <td>-0.200469</td>\n",
       "      <td>0.406583</td>\n",
       "      <td>-0.055892</td>\n",
       "      <td>0.420972</td>\n",
       "      <td>-0.219247</td>\n",
       "      <td>0.352734</td>\n",
       "      <td>-0.379670</td>\n",
       "      <td>0.625505</td>\n",
       "      <td>0.582764</td>\n",
       "      <td>0.289946</td>\n",
       "      <td>-0.385064</td>\n",
       "      <td>0.455621</td>\n",
       "      <td>-0.388305</td>\n",
       "    </tr>\n",
       "    <tr>\n",
       "      <th>ZN</th>\n",
       "      <td>-0.200469</td>\n",
       "      <td>1.000000</td>\n",
       "      <td>-0.533828</td>\n",
       "      <td>-0.042697</td>\n",
       "      <td>-0.516604</td>\n",
       "      <td>0.311991</td>\n",
       "      <td>-0.569537</td>\n",
       "      <td>0.664408</td>\n",
       "      <td>-0.311948</td>\n",
       "      <td>-0.314563</td>\n",
       "      <td>-0.391679</td>\n",
       "      <td>0.175520</td>\n",
       "      <td>-0.412995</td>\n",
       "      <td>0.360445</td>\n",
       "    </tr>\n",
       "    <tr>\n",
       "      <th>INDUS</th>\n",
       "      <td>0.406583</td>\n",
       "      <td>-0.533828</td>\n",
       "      <td>1.000000</td>\n",
       "      <td>0.062938</td>\n",
       "      <td>0.763651</td>\n",
       "      <td>-0.391676</td>\n",
       "      <td>0.644779</td>\n",
       "      <td>-0.708027</td>\n",
       "      <td>0.595129</td>\n",
       "      <td>0.720760</td>\n",
       "      <td>0.383248</td>\n",
       "      <td>-0.356977</td>\n",
       "      <td>0.603800</td>\n",
       "      <td>-0.483725</td>\n",
       "    </tr>\n",
       "    <tr>\n",
       "      <th>CHAS</th>\n",
       "      <td>-0.055892</td>\n",
       "      <td>-0.042697</td>\n",
       "      <td>0.062938</td>\n",
       "      <td>1.000000</td>\n",
       "      <td>0.091203</td>\n",
       "      <td>0.091251</td>\n",
       "      <td>0.086518</td>\n",
       "      <td>-0.099176</td>\n",
       "      <td>-0.007368</td>\n",
       "      <td>-0.035587</td>\n",
       "      <td>-0.121515</td>\n",
       "      <td>0.048788</td>\n",
       "      <td>-0.053929</td>\n",
       "      <td>0.175260</td>\n",
       "    </tr>\n",
       "    <tr>\n",
       "      <th>NOX</th>\n",
       "      <td>0.420972</td>\n",
       "      <td>-0.516604</td>\n",
       "      <td>0.763651</td>\n",
       "      <td>0.091203</td>\n",
       "      <td>1.000000</td>\n",
       "      <td>-0.302188</td>\n",
       "      <td>0.731470</td>\n",
       "      <td>-0.769230</td>\n",
       "      <td>0.611441</td>\n",
       "      <td>0.668023</td>\n",
       "      <td>0.188933</td>\n",
       "      <td>-0.380051</td>\n",
       "      <td>0.590879</td>\n",
       "      <td>-0.427321</td>\n",
       "    </tr>\n",
       "    <tr>\n",
       "      <th>RM</th>\n",
       "      <td>-0.219247</td>\n",
       "      <td>0.311991</td>\n",
       "      <td>-0.391676</td>\n",
       "      <td>0.091251</td>\n",
       "      <td>-0.302188</td>\n",
       "      <td>1.000000</td>\n",
       "      <td>-0.240265</td>\n",
       "      <td>0.205246</td>\n",
       "      <td>-0.209847</td>\n",
       "      <td>-0.292048</td>\n",
       "      <td>-0.355501</td>\n",
       "      <td>0.128069</td>\n",
       "      <td>-0.613808</td>\n",
       "      <td>0.695360</td>\n",
       "    </tr>\n",
       "    <tr>\n",
       "      <th>AGE</th>\n",
       "      <td>0.352734</td>\n",
       "      <td>-0.569537</td>\n",
       "      <td>0.644779</td>\n",
       "      <td>0.086518</td>\n",
       "      <td>0.731470</td>\n",
       "      <td>-0.240265</td>\n",
       "      <td>1.000000</td>\n",
       "      <td>-0.747881</td>\n",
       "      <td>0.456022</td>\n",
       "      <td>0.506456</td>\n",
       "      <td>0.261515</td>\n",
       "      <td>-0.273534</td>\n",
       "      <td>0.602339</td>\n",
       "      <td>-0.376955</td>\n",
       "    </tr>\n",
       "    <tr>\n",
       "      <th>DIS</th>\n",
       "      <td>-0.379670</td>\n",
       "      <td>0.664408</td>\n",
       "      <td>-0.708027</td>\n",
       "      <td>-0.099176</td>\n",
       "      <td>-0.769230</td>\n",
       "      <td>0.205246</td>\n",
       "      <td>-0.747881</td>\n",
       "      <td>1.000000</td>\n",
       "      <td>-0.494588</td>\n",
       "      <td>-0.534432</td>\n",
       "      <td>-0.232471</td>\n",
       "      <td>0.291512</td>\n",
       "      <td>-0.496996</td>\n",
       "      <td>0.249929</td>\n",
       "    </tr>\n",
       "    <tr>\n",
       "      <th>RAD</th>\n",
       "      <td>0.625505</td>\n",
       "      <td>-0.311948</td>\n",
       "      <td>0.595129</td>\n",
       "      <td>-0.007368</td>\n",
       "      <td>0.611441</td>\n",
       "      <td>-0.209847</td>\n",
       "      <td>0.456022</td>\n",
       "      <td>-0.494588</td>\n",
       "      <td>1.000000</td>\n",
       "      <td>0.910228</td>\n",
       "      <td>0.464741</td>\n",
       "      <td>-0.444413</td>\n",
       "      <td>0.488676</td>\n",
       "      <td>-0.381626</td>\n",
       "    </tr>\n",
       "    <tr>\n",
       "      <th>TAX</th>\n",
       "      <td>0.582764</td>\n",
       "      <td>-0.314563</td>\n",
       "      <td>0.720760</td>\n",
       "      <td>-0.035587</td>\n",
       "      <td>0.668023</td>\n",
       "      <td>-0.292048</td>\n",
       "      <td>0.506456</td>\n",
       "      <td>-0.534432</td>\n",
       "      <td>0.910228</td>\n",
       "      <td>1.000000</td>\n",
       "      <td>0.460853</td>\n",
       "      <td>-0.441808</td>\n",
       "      <td>0.543993</td>\n",
       "      <td>-0.468536</td>\n",
       "    </tr>\n",
       "    <tr>\n",
       "      <th>PTRATIO</th>\n",
       "      <td>0.289946</td>\n",
       "      <td>-0.391679</td>\n",
       "      <td>0.383248</td>\n",
       "      <td>-0.121515</td>\n",
       "      <td>0.188933</td>\n",
       "      <td>-0.355501</td>\n",
       "      <td>0.261515</td>\n",
       "      <td>-0.232471</td>\n",
       "      <td>0.464741</td>\n",
       "      <td>0.460853</td>\n",
       "      <td>1.000000</td>\n",
       "      <td>-0.177383</td>\n",
       "      <td>0.374044</td>\n",
       "      <td>-0.507787</td>\n",
       "    </tr>\n",
       "    <tr>\n",
       "      <th>B</th>\n",
       "      <td>-0.385064</td>\n",
       "      <td>0.175520</td>\n",
       "      <td>-0.356977</td>\n",
       "      <td>0.048788</td>\n",
       "      <td>-0.380051</td>\n",
       "      <td>0.128069</td>\n",
       "      <td>-0.273534</td>\n",
       "      <td>0.291512</td>\n",
       "      <td>-0.444413</td>\n",
       "      <td>-0.441808</td>\n",
       "      <td>-0.177383</td>\n",
       "      <td>1.000000</td>\n",
       "      <td>-0.366087</td>\n",
       "      <td>0.333461</td>\n",
       "    </tr>\n",
       "    <tr>\n",
       "      <th>LSTAT</th>\n",
       "      <td>0.455621</td>\n",
       "      <td>-0.412995</td>\n",
       "      <td>0.603800</td>\n",
       "      <td>-0.053929</td>\n",
       "      <td>0.590879</td>\n",
       "      <td>-0.613808</td>\n",
       "      <td>0.602339</td>\n",
       "      <td>-0.496996</td>\n",
       "      <td>0.488676</td>\n",
       "      <td>0.543993</td>\n",
       "      <td>0.374044</td>\n",
       "      <td>-0.366087</td>\n",
       "      <td>1.000000</td>\n",
       "      <td>-0.737663</td>\n",
       "    </tr>\n",
       "    <tr>\n",
       "      <th>MEDV</th>\n",
       "      <td>-0.388305</td>\n",
       "      <td>0.360445</td>\n",
       "      <td>-0.483725</td>\n",
       "      <td>0.175260</td>\n",
       "      <td>-0.427321</td>\n",
       "      <td>0.695360</td>\n",
       "      <td>-0.376955</td>\n",
       "      <td>0.249929</td>\n",
       "      <td>-0.381626</td>\n",
       "      <td>-0.468536</td>\n",
       "      <td>-0.507787</td>\n",
       "      <td>0.333461</td>\n",
       "      <td>-0.737663</td>\n",
       "      <td>1.000000</td>\n",
       "    </tr>\n",
       "  </tbody>\n",
       "</table>\n",
       "</div>"
      ],
      "text/plain": [
       "             CRIM        ZN     INDUS      CHAS       NOX        RM       AGE  \\\n",
       "CRIM     1.000000 -0.200469  0.406583 -0.055892  0.420972 -0.219247  0.352734   \n",
       "ZN      -0.200469  1.000000 -0.533828 -0.042697 -0.516604  0.311991 -0.569537   \n",
       "INDUS    0.406583 -0.533828  1.000000  0.062938  0.763651 -0.391676  0.644779   \n",
       "CHAS    -0.055892 -0.042697  0.062938  1.000000  0.091203  0.091251  0.086518   \n",
       "NOX      0.420972 -0.516604  0.763651  0.091203  1.000000 -0.302188  0.731470   \n",
       "RM      -0.219247  0.311991 -0.391676  0.091251 -0.302188  1.000000 -0.240265   \n",
       "AGE      0.352734 -0.569537  0.644779  0.086518  0.731470 -0.240265  1.000000   \n",
       "DIS     -0.379670  0.664408 -0.708027 -0.099176 -0.769230  0.205246 -0.747881   \n",
       "RAD      0.625505 -0.311948  0.595129 -0.007368  0.611441 -0.209847  0.456022   \n",
       "TAX      0.582764 -0.314563  0.720760 -0.035587  0.668023 -0.292048  0.506456   \n",
       "PTRATIO  0.289946 -0.391679  0.383248 -0.121515  0.188933 -0.355501  0.261515   \n",
       "B       -0.385064  0.175520 -0.356977  0.048788 -0.380051  0.128069 -0.273534   \n",
       "LSTAT    0.455621 -0.412995  0.603800 -0.053929  0.590879 -0.613808  0.602339   \n",
       "MEDV    -0.388305  0.360445 -0.483725  0.175260 -0.427321  0.695360 -0.376955   \n",
       "\n",
       "              DIS       RAD       TAX   PTRATIO         B     LSTAT      MEDV  \n",
       "CRIM    -0.379670  0.625505  0.582764  0.289946 -0.385064  0.455621 -0.388305  \n",
       "ZN       0.664408 -0.311948 -0.314563 -0.391679  0.175520 -0.412995  0.360445  \n",
       "INDUS   -0.708027  0.595129  0.720760  0.383248 -0.356977  0.603800 -0.483725  \n",
       "CHAS    -0.099176 -0.007368 -0.035587 -0.121515  0.048788 -0.053929  0.175260  \n",
       "NOX     -0.769230  0.611441  0.668023  0.188933 -0.380051  0.590879 -0.427321  \n",
       "RM       0.205246 -0.209847 -0.292048 -0.355501  0.128069 -0.613808  0.695360  \n",
       "AGE     -0.747881  0.456022  0.506456  0.261515 -0.273534  0.602339 -0.376955  \n",
       "DIS      1.000000 -0.494588 -0.534432 -0.232471  0.291512 -0.496996  0.249929  \n",
       "RAD     -0.494588  1.000000  0.910228  0.464741 -0.444413  0.488676 -0.381626  \n",
       "TAX     -0.534432  0.910228  1.000000  0.460853 -0.441808  0.543993 -0.468536  \n",
       "PTRATIO -0.232471  0.464741  0.460853  1.000000 -0.177383  0.374044 -0.507787  \n",
       "B        0.291512 -0.444413 -0.441808 -0.177383  1.000000 -0.366087  0.333461  \n",
       "LSTAT   -0.496996  0.488676  0.543993  0.374044 -0.366087  1.000000 -0.737663  \n",
       "MEDV     0.249929 -0.381626 -0.468536 -0.507787  0.333461 -0.737663  1.000000  "
      ]
     },
     "execution_count": 10,
     "metadata": {},
     "output_type": "execute_result"
    }
   ],
   "source": [
    "#Выведем корреляцию признаков\n",
    "corr = df.corr()\n",
    "corr"
   ]
  },
  {
   "cell_type": "code",
   "execution_count": 11,
   "id": "c1d4b29a",
   "metadata": {
    "execution": {
     "iopub.execute_input": "2022-01-19T20:32:35.506957Z",
     "iopub.status.busy": "2022-01-19T20:32:35.505551Z",
     "iopub.status.idle": "2022-01-19T20:32:35.739515Z",
     "shell.execute_reply": "2022-01-19T20:32:35.738790Z",
     "shell.execute_reply.started": "2022-01-19T20:30:53.797362Z"
    },
    "papermill": {
     "duration": 0.274686,
     "end_time": "2022-01-19T20:32:35.739694",
     "exception": false,
     "start_time": "2022-01-19T20:32:35.465008",
     "status": "completed"
    },
    "tags": []
   },
   "outputs": [],
   "source": [
    "import matplotlib.pyplot as plt\n",
    "import seaborn as sns"
   ]
  },
  {
   "cell_type": "code",
   "execution_count": 12,
   "id": "22539bc4",
   "metadata": {
    "execution": {
     "iopub.execute_input": "2022-01-19T20:32:35.830778Z",
     "iopub.status.busy": "2022-01-19T20:32:35.826089Z",
     "iopub.status.idle": "2022-01-19T20:32:36.254591Z",
     "shell.execute_reply": "2022-01-19T20:32:36.253948Z",
     "shell.execute_reply.started": "2022-01-19T20:30:53.802569Z"
    },
    "papermill": {
     "duration": 0.476045,
     "end_time": "2022-01-19T20:32:36.254769",
     "exception": false,
     "start_time": "2022-01-19T20:32:35.778724",
     "status": "completed"
    },
    "tags": []
   },
   "outputs": [
    {
     "data": {
      "text/plain": [
       "Text(10.049999999999997, 0.5, 'Количество домов')"
      ]
     },
     "execution_count": 12,
     "metadata": {},
     "output_type": "execute_result"
    },
    {
     "data": {
      "image/png": "[encoded data removed]",
      "text/plain": [
       "<Figure size 360x360 with 1 Axes>"
      ]
     },
     "metadata": {
      "needs_background": "light"
     },
     "output_type": "display_data"
    }
   ],
   "source": [
    "#Построим график расброса цен на дома\n",
    "sns.displot(df['MEDV'], bins=40)\n",
    "plt.title('Разброс цен на дома в 1000$')\n",
    "plt.xlabel('Средняя цена')\n",
    "plt.ylabel('Количество домов')"
   ]
  },
  {
   "cell_type": "markdown",
   "id": "32778563",
   "metadata": {
    "papermill": {
     "duration": 0.039512,
     "end_time": "2022-01-19T20:32:36.334675",
     "exception": false,
     "start_time": "2022-01-19T20:32:36.295163",
     "status": "completed"
    },
    "tags": []
   },
   "source": [
    "Увидим, что данные о цене имеют нормальное распределение, но также есть несколько выбросов в районе 25-26 и 50 тысяч долларов."
   ]
  },
  {
   "cell_type": "code",
   "execution_count": 13,
   "id": "583daa77",
   "metadata": {
    "execution": {
     "iopub.execute_input": "2022-01-19T20:32:36.430773Z",
     "iopub.status.busy": "2022-01-19T20:32:36.427566Z",
     "iopub.status.idle": "2022-01-19T20:32:37.784475Z",
     "shell.execute_reply": "2022-01-19T20:32:37.785018Z",
     "shell.execute_reply.started": "2022-01-19T20:30:54.214561Z"
    },
    "papermill": {
     "duration": 1.412569,
     "end_time": "2022-01-19T20:32:37.785206",
     "exception": false,
     "start_time": "2022-01-19T20:32:36.372637",
     "status": "completed"
    },
    "tags": []
   },
   "outputs": [
    {
     "data": {
      "text/plain": [
       "Text(0.5, 1.0, 'Корреляция признаков')"
      ]
     },
     "execution_count": 13,
     "metadata": {},
     "output_type": "execute_result"
    },
    {
     "data": {
      "image/png": "[encoded data removed]",
      "text/plain": [
       "<Figure size 1080x1080 with 2 Axes>"
      ]
     },
     "metadata": {
      "needs_background": "light"
     },
     "output_type": "display_data"
    }
   ],
   "source": [
    "#Построим матрицу корреляцию признаков\n",
    "plt.figure(figsize=(15,15))\n",
    "sns.heatmap(corr, cbar=True, square=True, annot=True, fmt='.2g', cmap='coolwarm')\n",
    "plt.title('Корреляция признаков')"
   ]
  },
  {
   "cell_type": "markdown",
   "id": "cdf9a53c",
   "metadata": {
    "papermill": {
     "duration": 0.044325,
     "end_time": "2022-01-19T20:32:37.872165",
     "exception": false,
     "start_time": "2022-01-19T20:32:37.827840",
     "status": "completed"
    },
    "tags": []
   },
   "source": [
    "Коэффициент корреляции находится в диапазоне от -1 до 1. Если значение близко к 1, это означает, что между двумя переменными существует сильная положительная корреляция. Когда он близок к -1, переменные имеют сильную отрицательную корреляцию.\n",
    "#### Вывод:\n",
    "* Наиболее сильно влиет на цену дома - количество комнат(RM) и процент населения района(LSTAT)\n",
    "* Также можем увидить сильную корреляцию между двуми признаками - индекс доступности к радиальным магистралям (RAD) и налог на имущество (TAX); доля акров производственных предприятий (INDUS) и концетрация оксида азота (NOX) и обратная к ним расстояние до центров занятости (NOX) \n",
    "* Если обобщить то почти все признаки достаточно сильно коррелируют друг с другом, что создаёт мультиколинеарность, это значит мы не сможем эффективно использовать линейную регрессию для точного предсказания"
   ]
  },
  {
   "cell_type": "code",
   "execution_count": 14,
   "id": "e4903eb1",
   "metadata": {
    "execution": {
     "iopub.execute_input": "2022-01-19T20:32:37.960112Z",
     "iopub.status.busy": "2022-01-19T20:32:37.959343Z",
     "iopub.status.idle": "2022-01-19T20:32:37.971423Z",
     "shell.execute_reply": "2022-01-19T20:32:37.972010Z",
     "shell.execute_reply.started": "2022-01-19T20:30:55.604379Z"
    },
    "papermill": {
     "duration": 0.05785,
     "end_time": "2022-01-19T20:32:37.972194",
     "exception": false,
     "start_time": "2022-01-19T20:32:37.914344",
     "status": "completed"
    },
    "tags": []
   },
   "outputs": [
    {
     "data": {
      "text/html": [
       "<div>\n",
       "<style scoped>\n",
       "    .dataframe tbody tr th:only-of-type {\n",
       "        vertical-align: middle;\n",
       "    }\n",
       "\n",
       "    .dataframe tbody tr th {\n",
       "        vertical-align: top;\n",
       "    }\n",
       "\n",
       "    .dataframe thead th {\n",
       "        text-align: right;\n",
       "    }\n",
       "</style>\n",
       "<table border=\"1\" class=\"dataframe\">\n",
       "  <thead>\n",
       "    <tr style=\"text-align: right;\">\n",
       "      <th></th>\n",
       "      <th>MEDV</th>\n",
       "    </tr>\n",
       "  </thead>\n",
       "  <tbody>\n",
       "    <tr>\n",
       "      <th>MEDV</th>\n",
       "      <td>1.000000</td>\n",
       "    </tr>\n",
       "    <tr>\n",
       "      <th>RM</th>\n",
       "      <td>0.695360</td>\n",
       "    </tr>\n",
       "    <tr>\n",
       "      <th>ZN</th>\n",
       "      <td>0.360445</td>\n",
       "    </tr>\n",
       "    <tr>\n",
       "      <th>B</th>\n",
       "      <td>0.333461</td>\n",
       "    </tr>\n",
       "    <tr>\n",
       "      <th>DIS</th>\n",
       "      <td>0.249929</td>\n",
       "    </tr>\n",
       "    <tr>\n",
       "      <th>CHAS</th>\n",
       "      <td>0.175260</td>\n",
       "    </tr>\n",
       "    <tr>\n",
       "      <th>AGE</th>\n",
       "      <td>-0.376955</td>\n",
       "    </tr>\n",
       "    <tr>\n",
       "      <th>RAD</th>\n",
       "      <td>-0.381626</td>\n",
       "    </tr>\n",
       "    <tr>\n",
       "      <th>CRIM</th>\n",
       "      <td>-0.388305</td>\n",
       "    </tr>\n",
       "    <tr>\n",
       "      <th>NOX</th>\n",
       "      <td>-0.427321</td>\n",
       "    </tr>\n",
       "    <tr>\n",
       "      <th>TAX</th>\n",
       "      <td>-0.468536</td>\n",
       "    </tr>\n",
       "    <tr>\n",
       "      <th>INDUS</th>\n",
       "      <td>-0.483725</td>\n",
       "    </tr>\n",
       "    <tr>\n",
       "      <th>PTRATIO</th>\n",
       "      <td>-0.507787</td>\n",
       "    </tr>\n",
       "    <tr>\n",
       "      <th>LSTAT</th>\n",
       "      <td>-0.737663</td>\n",
       "    </tr>\n",
       "  </tbody>\n",
       "</table>\n",
       "</div>"
      ],
      "text/plain": [
       "             MEDV\n",
       "MEDV     1.000000\n",
       "RM       0.695360\n",
       "ZN       0.360445\n",
       "B        0.333461\n",
       "DIS      0.249929\n",
       "CHAS     0.175260\n",
       "AGE     -0.376955\n",
       "RAD     -0.381626\n",
       "CRIM    -0.388305\n",
       "NOX     -0.427321\n",
       "TAX     -0.468536\n",
       "INDUS   -0.483725\n",
       "PTRATIO -0.507787\n",
       "LSTAT   -0.737663"
      ]
     },
     "execution_count": 14,
     "metadata": {},
     "output_type": "execute_result"
    }
   ],
   "source": [
    "#Корреляция признаков по отношению к цене\n",
    "corrmat = df.corr()\n",
    "corrmat.sort_values(by=['MEDV'], ascending=False)[['MEDV']]"
   ]
  },
  {
   "cell_type": "markdown",
   "id": "37ddb6f8",
   "metadata": {
    "papermill": {
     "duration": 0.042793,
     "end_time": "2022-01-19T20:32:38.058553",
     "exception": false,
     "start_time": "2022-01-19T20:32:38.015760",
     "status": "completed"
    },
    "tags": []
   },
   "source": [
    "# Построение моделей для предсказания"
   ]
  },
  {
   "cell_type": "code",
   "execution_count": 15,
   "id": "3a1253f9",
   "metadata": {
    "execution": {
     "iopub.execute_input": "2022-01-19T20:32:38.148769Z",
     "iopub.status.busy": "2022-01-19T20:32:38.148054Z",
     "iopub.status.idle": "2022-01-19T20:32:38.152670Z",
     "shell.execute_reply": "2022-01-19T20:32:38.153195Z",
     "shell.execute_reply.started": "2022-01-19T20:30:55.618248Z"
    },
    "papermill": {
     "duration": 0.051611,
     "end_time": "2022-01-19T20:32:38.153370",
     "exception": false,
     "start_time": "2022-01-19T20:32:38.101759",
     "status": "completed"
    },
    "tags": []
   },
   "outputs": [],
   "source": [
    "#Отделяем целевую переменную от признаков\n",
    "X = df.drop(['MEDV'],axis=1)\n",
    "Y = df['MEDV']"
   ]
  },
  {
   "cell_type": "code",
   "execution_count": 16,
   "id": "46e3b23f",
   "metadata": {
    "execution": {
     "iopub.execute_input": "2022-01-19T20:32:38.248211Z",
     "iopub.status.busy": "2022-01-19T20:32:38.247444Z",
     "iopub.status.idle": "2022-01-19T20:32:38.302160Z",
     "shell.execute_reply": "2022-01-19T20:32:38.302772Z",
     "shell.execute_reply.started": "2022-01-19T20:30:55.627399Z"
    },
    "papermill": {
     "duration": 0.105431,
     "end_time": "2022-01-19T20:32:38.302954",
     "exception": false,
     "start_time": "2022-01-19T20:32:38.197523",
     "status": "completed"
    },
    "tags": []
   },
   "outputs": [],
   "source": [
    "#Разделяем данные на тестовые и тренировочные в отношение 30 на 70\n",
    "from sklearn.model_selection import train_test_split\n",
    "\n",
    "X_train, X_test, Y_train, Y_test = train_test_split(X, Y, test_size = 0.3, random_state=8)"
   ]
  },
  {
   "cell_type": "markdown",
   "id": "b8bbca66",
   "metadata": {
    "papermill": {
     "duration": 0.044067,
     "end_time": "2022-01-19T20:32:38.391989",
     "exception": false,
     "start_time": "2022-01-19T20:32:38.347922",
     "status": "completed"
    },
    "tags": []
   },
   "source": [
    "#### Обучим несколько моделей для дальнейшего объединения в ансамбли, но в основном сделаем упор на градиентный бустинг, он хорошо подходит для решения задач предсказания."
   ]
  },
  {
   "cell_type": "code",
   "execution_count": 17,
   "id": "b63b424b",
   "metadata": {
    "execution": {
     "iopub.execute_input": "2022-01-19T20:32:38.483541Z",
     "iopub.status.busy": "2022-01-19T20:32:38.481260Z",
     "iopub.status.idle": "2022-01-19T20:32:49.417955Z",
     "shell.execute_reply": "2022-01-19T20:32:49.416895Z",
     "shell.execute_reply.started": "2022-01-19T20:30:55.643622Z"
    },
    "papermill": {
     "duration": 10.98307,
     "end_time": "2022-01-19T20:32:49.418166",
     "exception": false,
     "start_time": "2022-01-19T20:32:38.435096",
     "status": "completed"
    },
    "tags": []
   },
   "outputs": [
    {
     "name": "stdout",
     "output_type": "stream",
     "text": [
      "Requirement already satisfied: xgboost in /opt/conda/lib/python3.7/site-packages (1.5.1)\r\n",
      "Requirement already satisfied: scipy in /opt/conda/lib/python3.7/site-packages (from xgboost) (1.7.3)\r\n",
      "Requirement already satisfied: numpy in /opt/conda/lib/python3.7/site-packages (from xgboost) (1.19.5)\r\n",
      "\u001b[33mWARNING: Running pip as the 'root' user can result in broken permissions and conflicting behaviour with the system package manager. It is recommended to use a virtual environment instead: https://pip.pypa.io/warnings/venv\u001b[0m\r\n"
     ]
    }
   ],
   "source": [
    "!pip install xgboost"
   ]
  },
  {
   "cell_type": "code",
   "execution_count": 18,
   "id": "b31f0c47",
   "metadata": {
    "execution": {
     "iopub.execute_input": "2022-01-19T20:32:49.523206Z",
     "iopub.status.busy": "2022-01-19T20:32:49.521915Z",
     "iopub.status.idle": "2022-01-19T20:32:50.010015Z",
     "shell.execute_reply": "2022-01-19T20:32:50.008730Z",
     "shell.execute_reply.started": "2022-01-19T20:31:05.108825Z"
    },
    "papermill": {
     "duration": 0.541326,
     "end_time": "2022-01-19T20:32:50.010180",
     "exception": false,
     "start_time": "2022-01-19T20:32:49.468854",
     "status": "completed"
    },
    "tags": []
   },
   "outputs": [],
   "source": [
    "#Подключаем необходимые модели\n",
    "from sklearn.linear_model import ElasticNet, Lasso\n",
    "from sklearn.ensemble import RandomForestRegressor,  GradientBoostingRegressor\n",
    "from sklearn.kernel_ridge import KernelRidge\n",
    "from sklearn.preprocessing import RobustScaler\n",
    "from sklearn.base import BaseEstimator, TransformerMixin, RegressorMixin, clone\n",
    "from sklearn.model_selection import KFold, cross_val_score, train_test_split\n",
    "from sklearn.preprocessing import StandardScaler\n",
    "from sklearn.pipeline import Pipeline\n",
    "from sklearn.preprocessing import PolynomialFeatures\n",
    "from xgboost import XGBRegressor, XGBRFRegressor\n",
    "from sklearn.linear_model import Ridge"
   ]
  },
  {
   "cell_type": "markdown",
   "id": "8e7928fc",
   "metadata": {
    "papermill": {
     "duration": 0.04354,
     "end_time": "2022-01-19T20:32:50.099359",
     "exception": false,
     "start_time": "2022-01-19T20:32:50.055819",
     "status": "completed"
    },
    "tags": []
   },
   "source": [
    "#### Перед переходом к обучению изменим метод оценки моделей, применим метод кросс-валидацие, для предотращения переобучения\n",
    "+ 1.Разделим данные на несколько частей\n",
    "+ 2.Первая часть будет являться валидационной\n",
    "+ 3.Модель обучается на всех данных, кроме валидационной\n",
    "+ 4.Первые три шага повторяются, но на втором берётся не первая, а вторая, на втором - третья и так далее\n",
    "+ 5.Усредним результаты оценки"
   ]
  },
  {
   "cell_type": "code",
   "execution_count": 19,
   "id": "ef36dfda",
   "metadata": {
    "execution": {
     "iopub.execute_input": "2022-01-19T20:32:50.193968Z",
     "iopub.status.busy": "2022-01-19T20:32:50.193170Z",
     "iopub.status.idle": "2022-01-19T20:32:50.195371Z",
     "shell.execute_reply": "2022-01-19T20:32:50.194738Z",
     "shell.execute_reply.started": "2022-01-19T20:31:05.120043Z"
    },
    "papermill": {
     "duration": 0.052416,
     "end_time": "2022-01-19T20:32:50.195517",
     "exception": false,
     "start_time": "2022-01-19T20:32:50.143101",
     "status": "completed"
    },
    "tags": []
   },
   "outputs": [],
   "source": [
    "#Количество наших шагов\n",
    "n_folds = 5\n",
    "\n",
    "#Функция оценки\n",
    "def rmse_cv(model):\n",
    "    kf = KFold(n_folds, shuffle=True, random_state=42).get_n_splits(X_train.values)\n",
    "    rmse= np.sqrt(-cross_val_score(model, X_train.values, Y_train, scoring=\"neg_mean_squared_error\", cv = kf))\n",
    "    return(rmse)"
   ]
  },
  {
   "cell_type": "markdown",
   "id": "6245a127",
   "metadata": {
    "papermill": {
     "duration": 0.044717,
     "end_time": "2022-01-19T20:32:50.284310",
     "exception": false,
     "start_time": "2022-01-19T20:32:50.239593",
     "status": "completed"
    },
    "tags": []
   },
   "source": [
    "Также используем помимо гиперпараметров самой модели, масштабирование данных и для моделей, не являющихся бустингом, использем генерацию новых матриц признаков. Это позволит намного повысить качество модели.\n"
   ]
  },
  {
   "cell_type": "code",
   "execution_count": 20,
   "id": "b4fce57b",
   "metadata": {
    "execution": {
     "iopub.execute_input": "2022-01-19T20:32:50.384567Z",
     "iopub.status.busy": "2022-01-19T20:32:50.383847Z",
     "iopub.status.idle": "2022-01-19T20:32:50.527572Z",
     "shell.execute_reply": "2022-01-19T20:32:50.528736Z",
     "shell.execute_reply.started": "2022-01-19T20:31:05.137943Z"
    },
    "papermill": {
     "duration": 0.201142,
     "end_time": "2022-01-19T20:32:50.529232",
     "exception": false,
     "start_time": "2022-01-19T20:32:50.328090",
     "status": "completed"
    },
    "tags": []
   },
   "outputs": [
    {
     "name": "stdout",
     "output_type": "stream",
     "text": [
      "ElasticNet Score: 3.82347\n"
     ]
    }
   ],
   "source": [
    "steps = [\n",
    "    ('scalar', StandardScaler()),\n",
    "    ('poly', PolynomialFeatures(degree=2)),\n",
    "    ('model', ElasticNet(alpha=0.0235, l1_ratio=.8, random_state=5))\n",
    "]\n",
    "\n",
    "elastic = Pipeline(steps)\n",
    "elastic_score = rmse_cv(elastic).mean()\n",
    "print('ElasticNet Score: {}'.format(round(elastic_score, 5)))"
   ]
  },
  {
   "cell_type": "code",
   "execution_count": 21,
   "id": "5a125a73",
   "metadata": {
    "execution": {
     "iopub.execute_input": "2022-01-19T20:32:50.676421Z",
     "iopub.status.busy": "2022-01-19T20:32:50.675748Z",
     "iopub.status.idle": "2022-01-19T20:32:50.756439Z",
     "shell.execute_reply": "2022-01-19T20:32:50.757672Z",
     "shell.execute_reply.started": "2022-01-19T20:31:05.298407Z"
    },
    "papermill": {
     "duration": 0.144793,
     "end_time": "2022-01-19T20:32:50.757976",
     "exception": false,
     "start_time": "2022-01-19T20:32:50.613183",
     "status": "completed"
    },
    "tags": []
   },
   "outputs": [
    {
     "name": "stdout",
     "output_type": "stream",
     "text": [
      "KernelRidge Score: 3.87031\n"
     ]
    }
   ],
   "source": [
    "steps = [\n",
    "    ('scalar', StandardScaler()),\n",
    "    ('poly', PolynomialFeatures(degree=2)),\n",
    "    ('model', KernelRidge(alpha=3.4, kernel='polynomial', gamma=0.3, degree=1, coef0=100))\n",
    "]\n",
    "\n",
    "kernel = Pipeline(steps)\n",
    "kernel_score = rmse_cv(kernel).mean()\n",
    "print('KernelRidge Score: {}'.format(round(kernel_score, 5)))"
   ]
  },
  {
   "cell_type": "code",
   "execution_count": 22,
   "id": "1eb4957c",
   "metadata": {
    "execution": {
     "iopub.execute_input": "2022-01-19T20:32:50.908960Z",
     "iopub.status.busy": "2022-01-19T20:32:50.908238Z",
     "iopub.status.idle": "2022-01-19T20:32:54.001431Z",
     "shell.execute_reply": "2022-01-19T20:32:54.002097Z",
     "shell.execute_reply.started": "2022-01-19T20:31:05.379738Z"
    },
    "papermill": {
     "duration": 3.157996,
     "end_time": "2022-01-19T20:32:54.002277",
     "exception": false,
     "start_time": "2022-01-19T20:32:50.844281",
     "status": "completed"
    },
    "tags": []
   },
   "outputs": [
    {
     "name": "stdout",
     "output_type": "stream",
     "text": [
      "GradientBoostingRegressor Score: 3.51064\n"
     ]
    }
   ],
   "source": [
    "steps = [\n",
    "    ('scalar', RobustScaler()),\n",
    "    ('model', GradientBoostingRegressor(n_estimators=300, learning_rate=0.05, max_depth=4, max_features='sqrt', min_samples_leaf=15, min_samples_split=10, loss='huber', random_state =5))\n",
    "] \n",
    "\n",
    "GBR = Pipeline(steps)\n",
    "GBR_score = rmse_cv(GBR).mean()\n",
    "print('GradientBoostingRegressor Score: {}'.format(round(GBR_score, 5)))                                   "
   ]
  },
  {
   "cell_type": "code",
   "execution_count": 23,
   "id": "7d98f654",
   "metadata": {
    "execution": {
     "iopub.execute_input": "2022-01-19T20:32:54.099345Z",
     "iopub.status.busy": "2022-01-19T20:32:54.098667Z",
     "iopub.status.idle": "2022-01-19T20:33:03.291057Z",
     "shell.execute_reply": "2022-01-19T20:33:03.291745Z",
     "shell.execute_reply.started": "2022-01-19T20:31:08.600182Z"
    },
    "papermill": {
     "duration": 9.243565,
     "end_time": "2022-01-19T20:33:03.291939",
     "exception": false,
     "start_time": "2022-01-19T20:32:54.048374",
     "status": "completed"
    },
    "tags": []
   },
   "outputs": [
    {
     "name": "stdout",
     "output_type": "stream",
     "text": [
      "XGBRegressor Score: 3.30716\n"
     ]
    }
   ],
   "source": [
    "steps = [\n",
    "    ('scalar', StandardScaler()),\n",
    "    ('model', XGBRegressor(n_estimators=500, max_depth=3, eta=0.1, subsample=0.3, colsample_bytree=0.7))\n",
    "] \n",
    "\n",
    "XGBR = Pipeline(steps)\n",
    "XGBR_score = rmse_cv(XGBR).mean()\n",
    "print('XGBRegressor Score: {}'.format(round(XGBR_score, 5)))   "
   ]
  },
  {
   "cell_type": "code",
   "execution_count": 24,
   "id": "e49c657f",
   "metadata": {
    "execution": {
     "iopub.execute_input": "2022-01-19T20:33:03.393027Z",
     "iopub.status.busy": "2022-01-19T20:33:03.392261Z",
     "iopub.status.idle": "2022-01-19T20:33:06.211076Z",
     "shell.execute_reply": "2022-01-19T20:33:06.212097Z",
     "shell.execute_reply.started": "2022-01-19T20:31:19.201865Z"
    },
    "papermill": {
     "duration": 2.872368,
     "end_time": "2022-01-19T20:33:06.212305",
     "exception": false,
     "start_time": "2022-01-19T20:33:03.339937",
     "status": "completed"
    },
    "tags": []
   },
   "outputs": [
    {
     "name": "stdout",
     "output_type": "stream",
     "text": [
      "XGBRFRegressor Score: 3.38211\n"
     ]
    }
   ],
   "source": [
    "steps = [\n",
    "    ('scalar', RobustScaler()),\n",
    "    ('model', XGBRFRegressor(n_estimators=300, max_depth=10, eta=0.1, subsample=0.7, colsample_bytree=0.8))\n",
    "] \n",
    "\n",
    "XGBRFR = Pipeline(steps)\n",
    "XGBRFR_score = rmse_cv(XGBRFR).mean()\n",
    "print('XGBRFRegressor Score: {}'.format(round(XGBRFR_score, 5))) "
   ]
  },
  {
   "cell_type": "code",
   "execution_count": 25,
   "id": "0dd38ba3",
   "metadata": {
    "execution": {
     "iopub.execute_input": "2022-01-19T20:33:06.316219Z",
     "iopub.status.busy": "2022-01-19T20:33:06.315440Z",
     "iopub.status.idle": "2022-01-19T20:33:06.947796Z",
     "shell.execute_reply": "2022-01-19T20:33:06.947062Z",
     "shell.execute_reply.started": "2022-01-19T20:31:22.168105Z"
    },
    "papermill": {
     "duration": 0.688124,
     "end_time": "2022-01-19T20:33:06.947958",
     "exception": false,
     "start_time": "2022-01-19T20:33:06.259834",
     "status": "completed"
    },
    "tags": []
   },
   "outputs": [
    {
     "name": "stdout",
     "output_type": "stream",
     "text": [
      "RandomForestRegressor Score: 3.42485\n"
     ]
    }
   ],
   "source": [
    "steps = [\n",
    "    ('scalar', StandardScaler()),\n",
    "    ('model', RandomForestRegressor(n_estimators = 45, random_state = 0, max_depth=8))\n",
    "] \n",
    "\n",
    "RFR = Pipeline(steps)\n",
    "RFR_score = rmse_cv(RFR).mean()\n",
    "print('RandomForestRegressor Score: {}'.format(round(RFR_score, 5))) "
   ]
  },
  {
   "cell_type": "code",
   "execution_count": 26,
   "id": "4716f314",
   "metadata": {
    "execution": {
     "iopub.execute_input": "2022-01-19T20:33:07.051154Z",
     "iopub.status.busy": "2022-01-19T20:33:07.050413Z",
     "iopub.status.idle": "2022-01-19T20:33:07.164193Z",
     "shell.execute_reply": "2022-01-19T20:33:07.165161Z",
     "shell.execute_reply.started": "2022-01-19T20:31:22.831076Z"
    },
    "papermill": {
     "duration": 0.169862,
     "end_time": "2022-01-19T20:33:07.165509",
     "exception": false,
     "start_time": "2022-01-19T20:33:06.995647",
     "status": "completed"
    },
    "tags": []
   },
   "outputs": [
    {
     "name": "stdout",
     "output_type": "stream",
     "text": [
      "Lasso score: 3.8178\n"
     ]
    }
   ],
   "source": [
    "steps = [\n",
    "    ('scalar', StandardScaler()),\n",
    "    ('poly', PolynomialFeatures(degree=2)),\n",
    "    ('model', Lasso(alpha=0.028, fit_intercept=True, max_iter=3000))\n",
    "]\n",
    "\n",
    "lasso = Pipeline(steps)\n",
    "lasso_score = rmse_cv(lasso).mean()\n",
    "print('Lasso score: {}'.format(round(lasso_score, 5)))"
   ]
  },
  {
   "cell_type": "code",
   "execution_count": 27,
   "id": "11d98126",
   "metadata": {
    "execution": {
     "iopub.execute_input": "2022-01-19T20:33:07.321092Z",
     "iopub.status.busy": "2022-01-19T20:33:07.320288Z",
     "iopub.status.idle": "2022-01-19T20:33:07.372068Z",
     "shell.execute_reply": "2022-01-19T20:33:07.370980Z",
     "shell.execute_reply.started": "2022-01-19T20:31:22.959133Z"
    },
    "papermill": {
     "duration": 0.114377,
     "end_time": "2022-01-19T20:33:07.372373",
     "exception": false,
     "start_time": "2022-01-19T20:33:07.257996",
     "status": "completed"
    },
    "tags": []
   },
   "outputs": [
    {
     "name": "stdout",
     "output_type": "stream",
     "text": [
      "Ridge score: 3.86896\n"
     ]
    }
   ],
   "source": [
    "steps = [\n",
    "    ('scalar', StandardScaler()),\n",
    "    ('poly', PolynomialFeatures(degree=2)),\n",
    "    ('model', Ridge(alpha=10.09, fit_intercept=True))\n",
    "]\n",
    "\n",
    "ridge = Pipeline(steps)\n",
    "ridge_score = rmse_cv(ridge).mean()\n",
    "print('Ridge score: {}'.format(round(ridge_score, 5)))"
   ]
  },
  {
   "cell_type": "code",
   "execution_count": 28,
   "id": "ce9bf80f",
   "metadata": {
    "execution": {
     "iopub.execute_input": "2022-01-19T20:33:07.527555Z",
     "iopub.status.busy": "2022-01-19T20:33:07.524488Z",
     "iopub.status.idle": "2022-01-19T20:33:07.529057Z",
     "shell.execute_reply": "2022-01-19T20:33:07.529754Z",
     "shell.execute_reply.started": "2022-01-19T20:31:23.025070Z"
    },
    "papermill": {
     "duration": 0.063219,
     "end_time": "2022-01-19T20:33:07.529956",
     "exception": false,
     "start_time": "2022-01-19T20:33:07.466737",
     "status": "completed"
    },
    "tags": []
   },
   "outputs": [],
   "source": [
    "models = [('ElasticNet', elastic_score),\n",
    "          ('KernelRidge', kernel_score),\n",
    "          ('GBRegressor', GBR_score),\n",
    "          ('XGBRegressor', XGBR_score),\n",
    "          ('XGBRFRegressor', XGBRFR_score),\n",
    "          ('RandomForestRegressor', RFR_score),\n",
    "          ('Lasso', lasso_score),\n",
    "          ('Ridge', ridge_score)]"
   ]
  },
  {
   "cell_type": "code",
   "execution_count": 29,
   "id": "c10a5fd4",
   "metadata": {
    "execution": {
     "iopub.execute_input": "2022-01-19T20:33:07.638508Z",
     "iopub.status.busy": "2022-01-19T20:33:07.637726Z",
     "iopub.status.idle": "2022-01-19T20:33:07.640659Z",
     "shell.execute_reply": "2022-01-19T20:33:07.641192Z",
     "shell.execute_reply.started": "2022-01-19T20:31:23.038593Z"
    },
    "papermill": {
     "duration": 0.063628,
     "end_time": "2022-01-19T20:33:07.641401",
     "exception": false,
     "start_time": "2022-01-19T20:33:07.577773",
     "status": "completed"
    },
    "scrolled": true,
    "tags": []
   },
   "outputs": [
    {
     "data": {
      "text/html": [
       "<div>\n",
       "<style scoped>\n",
       "    .dataframe tbody tr th:only-of-type {\n",
       "        vertical-align: middle;\n",
       "    }\n",
       "\n",
       "    .dataframe tbody tr th {\n",
       "        vertical-align: top;\n",
       "    }\n",
       "\n",
       "    .dataframe thead th {\n",
       "        text-align: right;\n",
       "    }\n",
       "</style>\n",
       "<table border=\"1\" class=\"dataframe\">\n",
       "  <thead>\n",
       "    <tr style=\"text-align: right;\">\n",
       "      <th></th>\n",
       "      <th>Model</th>\n",
       "      <th>RMSE</th>\n",
       "    </tr>\n",
       "  </thead>\n",
       "  <tbody>\n",
       "    <tr>\n",
       "      <th>0</th>\n",
       "      <td>ElasticNet</td>\n",
       "      <td>3.823474</td>\n",
       "    </tr>\n",
       "    <tr>\n",
       "      <th>1</th>\n",
       "      <td>KernelRidge</td>\n",
       "      <td>3.870311</td>\n",
       "    </tr>\n",
       "    <tr>\n",
       "      <th>2</th>\n",
       "      <td>GBRegressor</td>\n",
       "      <td>3.510639</td>\n",
       "    </tr>\n",
       "    <tr>\n",
       "      <th>3</th>\n",
       "      <td>XGBRegressor</td>\n",
       "      <td>3.307163</td>\n",
       "    </tr>\n",
       "    <tr>\n",
       "      <th>4</th>\n",
       "      <td>XGBRFRegressor</td>\n",
       "      <td>3.382108</td>\n",
       "    </tr>\n",
       "    <tr>\n",
       "      <th>5</th>\n",
       "      <td>RandomForestRegressor</td>\n",
       "      <td>3.424847</td>\n",
       "    </tr>\n",
       "    <tr>\n",
       "      <th>6</th>\n",
       "      <td>Lasso</td>\n",
       "      <td>3.817802</td>\n",
       "    </tr>\n",
       "    <tr>\n",
       "      <th>7</th>\n",
       "      <td>Ridge</td>\n",
       "      <td>3.868963</td>\n",
       "    </tr>\n",
       "  </tbody>\n",
       "</table>\n",
       "</div>"
      ],
      "text/plain": [
       "                   Model      RMSE\n",
       "0             ElasticNet  3.823474\n",
       "1            KernelRidge  3.870311\n",
       "2            GBRegressor  3.510639\n",
       "3           XGBRegressor  3.307163\n",
       "4         XGBRFRegressor  3.382108\n",
       "5  RandomForestRegressor  3.424847\n",
       "6                  Lasso  3.817802\n",
       "7                  Ridge  3.868963"
      ]
     },
     "execution_count": 29,
     "metadata": {},
     "output_type": "execute_result"
    }
   ],
   "source": [
    "#Выведем среднеквадратичную ошибку каждой модели\n",
    "predict = pd.DataFrame(data=models, columns=['Model', 'RMSE'])\n",
    "predict"
   ]
  },
  {
   "cell_type": "markdown",
   "id": "336966ad",
   "metadata": {
    "papermill": {
     "duration": 0.047304,
     "end_time": "2022-01-19T20:33:07.738131",
     "exception": false,
     "start_time": "2022-01-19T20:33:07.690827",
     "status": "completed"
    },
    "tags": []
   },
   "source": [
    "## Объединим модели в ансамбль, чтобы усреднить их предсказания"
   ]
  },
  {
   "cell_type": "code",
   "execution_count": 30,
   "id": "8c6e0bb8",
   "metadata": {
    "execution": {
     "iopub.execute_input": "2022-01-19T20:33:07.837306Z",
     "iopub.status.busy": "2022-01-19T20:33:07.836485Z",
     "iopub.status.idle": "2022-01-19T20:33:07.843795Z",
     "shell.execute_reply": "2022-01-19T20:33:07.844359Z",
     "shell.execute_reply.started": "2022-01-19T20:31:23.069677Z"
    },
    "papermill": {
     "duration": 0.058794,
     "end_time": "2022-01-19T20:33:07.844565",
     "exception": false,
     "start_time": "2022-01-19T20:33:07.785771",
     "status": "completed"
    },
    "tags": []
   },
   "outputs": [],
   "source": [
    "class AveragingModels(BaseEstimator, RegressorMixin, TransformerMixin):\n",
    "    def __init__(self, models):\n",
    "        self.models = models\n",
    "\n",
    "    def fit(self, X, y):\n",
    "        self.models_ = [clone(x) for x in self.models]\n",
    "        \n",
    "        #Обучаем модели\n",
    "        for model in self.models_:\n",
    "            model.fit(X, y)\n",
    "\n",
    "        return self\n",
    "\n",
    "    def predict(self, X):\n",
    "        #Находим предсказания для каждой модели\n",
    "        predictions = np.column_stack([\n",
    "            model.predict(X) for model in self.models_\n",
    "        ])\n",
    "        #Усредняем предсказания\n",
    "        return np.mean(predictions, axis=1)   "
   ]
  },
  {
   "cell_type": "markdown",
   "id": "66d9feb6",
   "metadata": {
    "papermill": {
     "duration": 0.047327,
     "end_time": "2022-01-19T20:33:07.939969",
     "exception": false,
     "start_time": "2022-01-19T20:33:07.892642",
     "status": "completed"
    },
    "tags": []
   },
   "source": [
    "Находим комбинацию моделей для наилучшего результата"
   ]
  },
  {
   "cell_type": "code",
   "execution_count": 31,
   "id": "9cef3f45",
   "metadata": {
    "execution": {
     "iopub.execute_input": "2022-01-19T20:33:08.039869Z",
     "iopub.status.busy": "2022-01-19T20:33:08.039126Z",
     "iopub.status.idle": "2022-01-19T20:33:17.673520Z",
     "shell.execute_reply": "2022-01-19T20:33:17.674554Z",
     "shell.execute_reply.started": "2022-01-19T20:31:23.086116Z"
    },
    "papermill": {
     "duration": 9.686811,
     "end_time": "2022-01-19T20:33:17.674840",
     "exception": false,
     "start_time": "2022-01-19T20:33:07.988029",
     "status": "completed"
    },
    "tags": []
   },
   "outputs": [
    {
     "name": "stdout",
     "output_type": "stream",
     "text": [
      "Averaged score: 3.14441\n"
     ]
    }
   ],
   "source": [
    "averaged_models = AveragingModels(models = (XGBR, elastic))\n",
    "\n",
    "score = rmse_cv(averaged_models).mean()\n",
    "print('Averaged score: {}'.format(round(score, 5)))"
   ]
  }
 ],
 "metadata": {
  "kernelspec": {
   "display_name": "Python 3",
   "language": "python",
   "name": "python3"
  },
  "language_info": {
   "codemirror_mode": {
    "name": "ipython",
    "version": 3
   },
   "file_extension": ".py",
   "mimetype": "text/x-python",
   "name": "python",
   "nbconvert_exporter": "python",
   "pygments_lexer": "ipython3",
   "version": "3.7.12"
  },
  "papermill": {
   "default_parameters": {},
   "duration": 56.169293,
   "end_time": "2022-01-19T20:33:18.590785",
   "environment_variables": {},
   "exception": null,
   "input_path": "__notebook__.ipynb",
   "output_path": "__notebook__.ipynb",
   "parameters": {},
   "start_time": "2022-01-19T20:32:22.421492",
   "version": "2.3.3"
  }
 },
 "nbformat": 4,
 "nbformat_minor": 5
}
